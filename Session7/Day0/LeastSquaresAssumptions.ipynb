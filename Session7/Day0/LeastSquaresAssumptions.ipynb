{
 "cells": [
  {
   "cell_type": "code",
   "execution_count": 122,
   "metadata": {
    "slideshow": {
     "slide_type": "skip"
    }
   },
   "outputs": [],
   "source": [
    "import numpy as np\n",
    "import matplotlib.pyplot as plt\n",
    "\n",
    "%matplotlib notebook"
   ]
  },
  {
   "cell_type": "markdown",
   "metadata": {
    "collapsed": true,
    "slideshow": {
     "slide_type": "slide"
    }
   },
   "source": [
    "# The Assumptions of Least Squares\n",
    "========\n",
    "\n",
    "#### Version 0.1\n",
    "\n",
    "***\n",
    "By AA Miller 2018 Nov 04"
   ]
  },
  {
   "cell_type": "markdown",
   "metadata": {
    "slideshow": {
     "slide_type": "subslide"
    }
   },
   "source": [
    "Today we will focus on a relatively simple problem, while highlighting several challenges for the standard astronomical workflow, as a way of setting up the various lectures that will happen over the course of this week. \n",
    "\n",
    "A lot of the lessons in this lecture are inspired by the paper [Data Analysis Recipes: Fitting a Model to Data](https://arxiv.org/abs/1008.4686) by Hogg, Bovy, & Lang. [This paper has been mentioned previously in the DSFP, though today we will only be able to scratch the surface of its content.]"
   ]
  },
  {
   "cell_type": "markdown",
   "metadata": {
    "slideshow": {
     "slide_type": "subslide"
    }
   },
   "source": [
    "In some sense - the goal right now is to make you really nervous about the work that you've previously done. \n",
    "\n",
    "(Though this lecture should not be met with too much consternation –– we will discuss new approaches to fitting a line)"
   ]
  },
  {
   "cell_type": "markdown",
   "metadata": {
    "slideshow": {
     "slide_type": "slide"
    }
   },
   "source": [
    "## Problem 1) Data\n",
    "\n",
    "At the core of everything we hope to accomplish with the DSFP stands a single common connection: data."
   ]
  },
  {
   "cell_type": "markdown",
   "metadata": {
    "slideshow": {
     "slide_type": "subslide"
    }
   },
   "source": [
    "There are many things we (may) want to do with these data: reduce them, visualize them, model them, develop predictions from them, use them to infer fundamental properties of the universe (!)."
   ]
  },
  {
   "cell_type": "markdown",
   "metadata": {
    "slideshow": {
     "slide_type": "subslide"
    }
   },
   "source": [
    "Before we dive into that really fun stuff, we should start with some basics:"
   ]
  },
  {
   "cell_type": "markdown",
   "metadata": {
    "slideshow": {
     "slide_type": "slide"
    }
   },
   "source": [
    "**Problem 1a**\n",
    "\n",
    "What is data?"
   ]
  },
  {
   "cell_type": "markdown",
   "metadata": {
    "slideshow": {
     "slide_type": "subslide"
    }
   },
   "source": [
    "*Take a few min to discuss this with your partner*"
   ]
  },
  {
   "cell_type": "markdown",
   "metadata": {
    "slideshow": {
     "slide_type": "subslide"
    }
   },
   "source": [
    "**Solution 1a**\n",
    "\n",
    "numbers"
   ]
  },
  {
   "cell_type": "markdown",
   "metadata": {
    "slideshow": {
     "slide_type": "slide"
    }
   },
   "source": [
    "**Problem 1b**\n",
    "\n",
    "Below, I provide some data (in the form of `numpy` arrays). As good data scientists, what is the first thing you should do with this data?\n",
    "\n",
    "Feel free to create a new cell if necessary."
   ]
  },
  {
   "cell_type": "code",
   "execution_count": 123,
   "metadata": {
    "slideshow": {
     "slide_type": "subslide"
    }
   },
   "outputs": [],
   "source": [
    "y = np.array([203, 58, 210, 202, 198, 158, \n",
    "              165, 201, 157, 131, 166, 160, \n",
    "              186, 125, 218, 146])\n",
    "x = np.array([495, 173, 479, 504, 510, 416, \n",
    "              393, 442, 317, 311, 400, 337, \n",
    "              423, 334, 533, 344])"
   ]
  },
  {
   "cell_type": "code",
   "execution_count": 124,
   "metadata": {},
   "outputs": [
    {
     "name": "stdout",
     "output_type": "stream",
     "text": [
      "16 16\n"
     ]
    }
   ],
   "source": [
    "print(len(x), len(y))"
   ]
  },
  {
   "cell_type": "markdown",
   "metadata": {
    "slideshow": {
     "slide_type": "slide"
    }
   },
   "source": [
    "**Problem 1c**\n",
    "\n",
    "[You may have already done this] Now that we understand the origin of the data, make a scatter plot showing their distribution."
   ]
  },
  {
   "cell_type": "code",
   "execution_count": 125,
   "metadata": {
    "slideshow": {
     "slide_type": "subslide"
    }
   },
   "outputs": [
    {
     "data": {
      "application/javascript": [
       "/* Put everything inside the global mpl namespace */\n",
       "window.mpl = {};\n",
       "\n",
       "\n",
       "mpl.get_websocket_type = function() {\n",
       "    if (typeof(WebSocket) !== 'undefined') {\n",
       "        return WebSocket;\n",
       "    } else if (typeof(MozWebSocket) !== 'undefined') {\n",
       "        return MozWebSocket;\n",
       "    } else {\n",
       "        alert('Your browser does not have WebSocket support.' +\n",
       "              'Please try Chrome, Safari or Firefox ≥ 6. ' +\n",
       "              'Firefox 4 and 5 are also supported but you ' +\n",
       "              'have to enable WebSockets in about:config.');\n",
       "    };\n",
       "}\n",
       "\n",
       "mpl.figure = function(figure_id, websocket, ondownload, parent_element) {\n",
       "    this.id = figure_id;\n",
       "\n",
       "    this.ws = websocket;\n",
       "\n",
       "    this.supports_binary = (this.ws.binaryType != undefined);\n",
       "\n",
       "    if (!this.supports_binary) {\n",
       "        var warnings = document.getElementById(\"mpl-warnings\");\n",
       "        if (warnings) {\n",
       "            warnings.style.display = 'block';\n",
       "            warnings.textContent = (\n",
       "                \"This browser does not support binary websocket messages. \" +\n",
       "                    \"Performance may be slow.\");\n",
       "        }\n",
       "    }\n",
       "\n",
       "    this.imageObj = new Image();\n",
       "\n",
       "    this.context = undefined;\n",
       "    this.message = undefined;\n",
       "    this.canvas = undefined;\n",
       "    this.rubberband_canvas = undefined;\n",
       "    this.rubberband_context = undefined;\n",
       "    this.format_dropdown = undefined;\n",
       "\n",
       "    this.image_mode = 'full';\n",
       "\n",
       "    this.root = $('<div/>');\n",
       "    this._root_extra_style(this.root)\n",
       "    this.root.attr('style', 'display: inline-block');\n",
       "\n",
       "    $(parent_element).append(this.root);\n",
       "\n",
       "    this._init_header(this);\n",
       "    this._init_canvas(this);\n",
       "    this._init_toolbar(this);\n",
       "\n",
       "    var fig = this;\n",
       "\n",
       "    this.waiting = false;\n",
       "\n",
       "    this.ws.onopen =  function () {\n",
       "            fig.send_message(\"supports_binary\", {value: fig.supports_binary});\n",
       "            fig.send_message(\"send_image_mode\", {});\n",
       "            if (mpl.ratio != 1) {\n",
       "                fig.send_message(\"set_dpi_ratio\", {'dpi_ratio': mpl.ratio});\n",
       "            }\n",
       "            fig.send_message(\"refresh\", {});\n",
       "        }\n",
       "\n",
       "    this.imageObj.onload = function() {\n",
       "            if (fig.image_mode == 'full') {\n",
       "                // Full images could contain transparency (where diff images\n",
       "                // almost always do), so we need to clear the canvas so that\n",
       "                // there is no ghosting.\n",
       "                fig.context.clearRect(0, 0, fig.canvas.width, fig.canvas.height);\n",
       "            }\n",
       "            fig.context.drawImage(fig.imageObj, 0, 0);\n",
       "        };\n",
       "\n",
       "    this.imageObj.onunload = function() {\n",
       "        fig.ws.close();\n",
       "    }\n",
       "\n",
       "    this.ws.onmessage = this._make_on_message_function(this);\n",
       "\n",
       "    this.ondownload = ondownload;\n",
       "}\n",
       "\n",
       "mpl.figure.prototype._init_header = function() {\n",
       "    var titlebar = $(\n",
       "        '<div class=\"ui-dialog-titlebar ui-widget-header ui-corner-all ' +\n",
       "        'ui-helper-clearfix\"/>');\n",
       "    var titletext = $(\n",
       "        '<div class=\"ui-dialog-title\" style=\"width: 100%; ' +\n",
       "        'text-align: center; padding: 3px;\"/>');\n",
       "    titlebar.append(titletext)\n",
       "    this.root.append(titlebar);\n",
       "    this.header = titletext[0];\n",
       "}\n",
       "\n",
       "\n",
       "\n",
       "mpl.figure.prototype._canvas_extra_style = function(canvas_div) {\n",
       "\n",
       "}\n",
       "\n",
       "\n",
       "mpl.figure.prototype._root_extra_style = function(canvas_div) {\n",
       "\n",
       "}\n",
       "\n",
       "mpl.figure.prototype._init_canvas = function() {\n",
       "    var fig = this;\n",
       "\n",
       "    var canvas_div = $('<div/>');\n",
       "\n",
       "    canvas_div.attr('style', 'position: relative; clear: both; outline: 0');\n",
       "\n",
       "    function canvas_keyboard_event(event) {\n",
       "        return fig.key_event(event, event['data']);\n",
       "    }\n",
       "\n",
       "    canvas_div.keydown('key_press', canvas_keyboard_event);\n",
       "    canvas_div.keyup('key_release', canvas_keyboard_event);\n",
       "    this.canvas_div = canvas_div\n",
       "    this._canvas_extra_style(canvas_div)\n",
       "    this.root.append(canvas_div);\n",
       "\n",
       "    var canvas = $('<canvas/>');\n",
       "    canvas.addClass('mpl-canvas');\n",
       "    canvas.attr('style', \"left: 0; top: 0; z-index: 0; outline: 0\")\n",
       "\n",
       "    this.canvas = canvas[0];\n",
       "    this.context = canvas[0].getContext(\"2d\");\n",
       "\n",
       "    var backingStore = this.context.backingStorePixelRatio ||\n",
       "\tthis.context.webkitBackingStorePixelRatio ||\n",
       "\tthis.context.mozBackingStorePixelRatio ||\n",
       "\tthis.context.msBackingStorePixelRatio ||\n",
       "\tthis.context.oBackingStorePixelRatio ||\n",
       "\tthis.context.backingStorePixelRatio || 1;\n",
       "\n",
       "    mpl.ratio = (window.devicePixelRatio || 1) / backingStore;\n",
       "\n",
       "    var rubberband = $('<canvas/>');\n",
       "    rubberband.attr('style', \"position: absolute; left: 0; top: 0; z-index: 1;\")\n",
       "\n",
       "    var pass_mouse_events = true;\n",
       "\n",
       "    canvas_div.resizable({\n",
       "        start: function(event, ui) {\n",
       "            pass_mouse_events = false;\n",
       "        },\n",
       "        resize: function(event, ui) {\n",
       "            fig.request_resize(ui.size.width, ui.size.height);\n",
       "        },\n",
       "        stop: function(event, ui) {\n",
       "            pass_mouse_events = true;\n",
       "            fig.request_resize(ui.size.width, ui.size.height);\n",
       "        },\n",
       "    });\n",
       "\n",
       "    function mouse_event_fn(event) {\n",
       "        if (pass_mouse_events)\n",
       "            return fig.mouse_event(event, event['data']);\n",
       "    }\n",
       "\n",
       "    rubberband.mousedown('button_press', mouse_event_fn);\n",
       "    rubberband.mouseup('button_release', mouse_event_fn);\n",
       "    // Throttle sequential mouse events to 1 every 20ms.\n",
       "    rubberband.mousemove('motion_notify', mouse_event_fn);\n",
       "\n",
       "    rubberband.mouseenter('figure_enter', mouse_event_fn);\n",
       "    rubberband.mouseleave('figure_leave', mouse_event_fn);\n",
       "\n",
       "    canvas_div.on(\"wheel\", function (event) {\n",
       "        event = event.originalEvent;\n",
       "        event['data'] = 'scroll'\n",
       "        if (event.deltaY < 0) {\n",
       "            event.step = 1;\n",
       "        } else {\n",
       "            event.step = -1;\n",
       "        }\n",
       "        mouse_event_fn(event);\n",
       "    });\n",
       "\n",
       "    canvas_div.append(canvas);\n",
       "    canvas_div.append(rubberband);\n",
       "\n",
       "    this.rubberband = rubberband;\n",
       "    this.rubberband_canvas = rubberband[0];\n",
       "    this.rubberband_context = rubberband[0].getContext(\"2d\");\n",
       "    this.rubberband_context.strokeStyle = \"#000000\";\n",
       "\n",
       "    this._resize_canvas = function(width, height) {\n",
       "        // Keep the size of the canvas, canvas container, and rubber band\n",
       "        // canvas in synch.\n",
       "        canvas_div.css('width', width)\n",
       "        canvas_div.css('height', height)\n",
       "\n",
       "        canvas.attr('width', width * mpl.ratio);\n",
       "        canvas.attr('height', height * mpl.ratio);\n",
       "        canvas.attr('style', 'width: ' + width + 'px; height: ' + height + 'px;');\n",
       "\n",
       "        rubberband.attr('width', width);\n",
       "        rubberband.attr('height', height);\n",
       "    }\n",
       "\n",
       "    // Set the figure to an initial 600x600px, this will subsequently be updated\n",
       "    // upon first draw.\n",
       "    this._resize_canvas(600, 600);\n",
       "\n",
       "    // Disable right mouse context menu.\n",
       "    $(this.rubberband_canvas).bind(\"contextmenu\",function(e){\n",
       "        return false;\n",
       "    });\n",
       "\n",
       "    function set_focus () {\n",
       "        canvas.focus();\n",
       "        canvas_div.focus();\n",
       "    }\n",
       "\n",
       "    window.setTimeout(set_focus, 100);\n",
       "}\n",
       "\n",
       "mpl.figure.prototype._init_toolbar = function() {\n",
       "    var fig = this;\n",
       "\n",
       "    var nav_element = $('<div/>')\n",
       "    nav_element.attr('style', 'width: 100%');\n",
       "    this.root.append(nav_element);\n",
       "\n",
       "    // Define a callback function for later on.\n",
       "    function toolbar_event(event) {\n",
       "        return fig.toolbar_button_onclick(event['data']);\n",
       "    }\n",
       "    function toolbar_mouse_event(event) {\n",
       "        return fig.toolbar_button_onmouseover(event['data']);\n",
       "    }\n",
       "\n",
       "    for(var toolbar_ind in mpl.toolbar_items) {\n",
       "        var name = mpl.toolbar_items[toolbar_ind][0];\n",
       "        var tooltip = mpl.toolbar_items[toolbar_ind][1];\n",
       "        var image = mpl.toolbar_items[toolbar_ind][2];\n",
       "        var method_name = mpl.toolbar_items[toolbar_ind][3];\n",
       "\n",
       "        if (!name) {\n",
       "            // put a spacer in here.\n",
       "            continue;\n",
       "        }\n",
       "        var button = $('<button/>');\n",
       "        button.addClass('ui-button ui-widget ui-state-default ui-corner-all ' +\n",
       "                        'ui-button-icon-only');\n",
       "        button.attr('role', 'button');\n",
       "        button.attr('aria-disabled', 'false');\n",
       "        button.click(method_name, toolbar_event);\n",
       "        button.mouseover(tooltip, toolbar_mouse_event);\n",
       "\n",
       "        var icon_img = $('<span/>');\n",
       "        icon_img.addClass('ui-button-icon-primary ui-icon');\n",
       "        icon_img.addClass(image);\n",
       "        icon_img.addClass('ui-corner-all');\n",
       "\n",
       "        var tooltip_span = $('<span/>');\n",
       "        tooltip_span.addClass('ui-button-text');\n",
       "        tooltip_span.html(tooltip);\n",
       "\n",
       "        button.append(icon_img);\n",
       "        button.append(tooltip_span);\n",
       "\n",
       "        nav_element.append(button);\n",
       "    }\n",
       "\n",
       "    var fmt_picker_span = $('<span/>');\n",
       "\n",
       "    var fmt_picker = $('<select/>');\n",
       "    fmt_picker.addClass('mpl-toolbar-option ui-widget ui-widget-content');\n",
       "    fmt_picker_span.append(fmt_picker);\n",
       "    nav_element.append(fmt_picker_span);\n",
       "    this.format_dropdown = fmt_picker[0];\n",
       "\n",
       "    for (var ind in mpl.extensions) {\n",
       "        var fmt = mpl.extensions[ind];\n",
       "        var option = $(\n",
       "            '<option/>', {selected: fmt === mpl.default_extension}).html(fmt);\n",
       "        fmt_picker.append(option)\n",
       "    }\n",
       "\n",
       "    // Add hover states to the ui-buttons\n",
       "    $( \".ui-button\" ).hover(\n",
       "        function() { $(this).addClass(\"ui-state-hover\");},\n",
       "        function() { $(this).removeClass(\"ui-state-hover\");}\n",
       "    );\n",
       "\n",
       "    var status_bar = $('<span class=\"mpl-message\"/>');\n",
       "    nav_element.append(status_bar);\n",
       "    this.message = status_bar[0];\n",
       "}\n",
       "\n",
       "mpl.figure.prototype.request_resize = function(x_pixels, y_pixels) {\n",
       "    // Request matplotlib to resize the figure. Matplotlib will then trigger a resize in the client,\n",
       "    // which will in turn request a refresh of the image.\n",
       "    this.send_message('resize', {'width': x_pixels, 'height': y_pixels});\n",
       "}\n",
       "\n",
       "mpl.figure.prototype.send_message = function(type, properties) {\n",
       "    properties['type'] = type;\n",
       "    properties['figure_id'] = this.id;\n",
       "    this.ws.send(JSON.stringify(properties));\n",
       "}\n",
       "\n",
       "mpl.figure.prototype.send_draw_message = function() {\n",
       "    if (!this.waiting) {\n",
       "        this.waiting = true;\n",
       "        this.ws.send(JSON.stringify({type: \"draw\", figure_id: this.id}));\n",
       "    }\n",
       "}\n",
       "\n",
       "\n",
       "mpl.figure.prototype.handle_save = function(fig, msg) {\n",
       "    var format_dropdown = fig.format_dropdown;\n",
       "    var format = format_dropdown.options[format_dropdown.selectedIndex].value;\n",
       "    fig.ondownload(fig, format);\n",
       "}\n",
       "\n",
       "\n",
       "mpl.figure.prototype.handle_resize = function(fig, msg) {\n",
       "    var size = msg['size'];\n",
       "    if (size[0] != fig.canvas.width || size[1] != fig.canvas.height) {\n",
       "        fig._resize_canvas(size[0], size[1]);\n",
       "        fig.send_message(\"refresh\", {});\n",
       "    };\n",
       "}\n",
       "\n",
       "mpl.figure.prototype.handle_rubberband = function(fig, msg) {\n",
       "    var x0 = msg['x0'] / mpl.ratio;\n",
       "    var y0 = (fig.canvas.height - msg['y0']) / mpl.ratio;\n",
       "    var x1 = msg['x1'] / mpl.ratio;\n",
       "    var y1 = (fig.canvas.height - msg['y1']) / mpl.ratio;\n",
       "    x0 = Math.floor(x0) + 0.5;\n",
       "    y0 = Math.floor(y0) + 0.5;\n",
       "    x1 = Math.floor(x1) + 0.5;\n",
       "    y1 = Math.floor(y1) + 0.5;\n",
       "    var min_x = Math.min(x0, x1);\n",
       "    var min_y = Math.min(y0, y1);\n",
       "    var width = Math.abs(x1 - x0);\n",
       "    var height = Math.abs(y1 - y0);\n",
       "\n",
       "    fig.rubberband_context.clearRect(\n",
       "        0, 0, fig.canvas.width, fig.canvas.height);\n",
       "\n",
       "    fig.rubberband_context.strokeRect(min_x, min_y, width, height);\n",
       "}\n",
       "\n",
       "mpl.figure.prototype.handle_figure_label = function(fig, msg) {\n",
       "    // Updates the figure title.\n",
       "    fig.header.textContent = msg['label'];\n",
       "}\n",
       "\n",
       "mpl.figure.prototype.handle_cursor = function(fig, msg) {\n",
       "    var cursor = msg['cursor'];\n",
       "    switch(cursor)\n",
       "    {\n",
       "    case 0:\n",
       "        cursor = 'pointer';\n",
       "        break;\n",
       "    case 1:\n",
       "        cursor = 'default';\n",
       "        break;\n",
       "    case 2:\n",
       "        cursor = 'crosshair';\n",
       "        break;\n",
       "    case 3:\n",
       "        cursor = 'move';\n",
       "        break;\n",
       "    }\n",
       "    fig.rubberband_canvas.style.cursor = cursor;\n",
       "}\n",
       "\n",
       "mpl.figure.prototype.handle_message = function(fig, msg) {\n",
       "    fig.message.textContent = msg['message'];\n",
       "}\n",
       "\n",
       "mpl.figure.prototype.handle_draw = function(fig, msg) {\n",
       "    // Request the server to send over a new figure.\n",
       "    fig.send_draw_message();\n",
       "}\n",
       "\n",
       "mpl.figure.prototype.handle_image_mode = function(fig, msg) {\n",
       "    fig.image_mode = msg['mode'];\n",
       "}\n",
       "\n",
       "mpl.figure.prototype.updated_canvas_event = function() {\n",
       "    // Called whenever the canvas gets updated.\n",
       "    this.send_message(\"ack\", {});\n",
       "}\n",
       "\n",
       "// A function to construct a web socket function for onmessage handling.\n",
       "// Called in the figure constructor.\n",
       "mpl.figure.prototype._make_on_message_function = function(fig) {\n",
       "    return function socket_on_message(evt) {\n",
       "        if (evt.data instanceof Blob) {\n",
       "            /* FIXME: We get \"Resource interpreted as Image but\n",
       "             * transferred with MIME type text/plain:\" errors on\n",
       "             * Chrome.  But how to set the MIME type?  It doesn't seem\n",
       "             * to be part of the websocket stream */\n",
       "            evt.data.type = \"image/png\";\n",
       "\n",
       "            /* Free the memory for the previous frames */\n",
       "            if (fig.imageObj.src) {\n",
       "                (window.URL || window.webkitURL).revokeObjectURL(\n",
       "                    fig.imageObj.src);\n",
       "            }\n",
       "\n",
       "            fig.imageObj.src = (window.URL || window.webkitURL).createObjectURL(\n",
       "                evt.data);\n",
       "            fig.updated_canvas_event();\n",
       "            fig.waiting = false;\n",
       "            return;\n",
       "        }\n",
       "        else if (typeof evt.data === 'string' && evt.data.slice(0, 21) == \"data:image/png;base64\") {\n",
       "            fig.imageObj.src = evt.data;\n",
       "            fig.updated_canvas_event();\n",
       "            fig.waiting = false;\n",
       "            return;\n",
       "        }\n",
       "\n",
       "        var msg = JSON.parse(evt.data);\n",
       "        var msg_type = msg['type'];\n",
       "\n",
       "        // Call the  \"handle_{type}\" callback, which takes\n",
       "        // the figure and JSON message as its only arguments.\n",
       "        try {\n",
       "            var callback = fig[\"handle_\" + msg_type];\n",
       "        } catch (e) {\n",
       "            console.log(\"No handler for the '\" + msg_type + \"' message type: \", msg);\n",
       "            return;\n",
       "        }\n",
       "\n",
       "        if (callback) {\n",
       "            try {\n",
       "                // console.log(\"Handling '\" + msg_type + \"' message: \", msg);\n",
       "                callback(fig, msg);\n",
       "            } catch (e) {\n",
       "                console.log(\"Exception inside the 'handler_\" + msg_type + \"' callback:\", e, e.stack, msg);\n",
       "            }\n",
       "        }\n",
       "    };\n",
       "}\n",
       "\n",
       "// from http://stackoverflow.com/questions/1114465/getting-mouse-location-in-canvas\n",
       "mpl.findpos = function(e) {\n",
       "    //this section is from http://www.quirksmode.org/js/events_properties.html\n",
       "    var targ;\n",
       "    if (!e)\n",
       "        e = window.event;\n",
       "    if (e.target)\n",
       "        targ = e.target;\n",
       "    else if (e.srcElement)\n",
       "        targ = e.srcElement;\n",
       "    if (targ.nodeType == 3) // defeat Safari bug\n",
       "        targ = targ.parentNode;\n",
       "\n",
       "    // jQuery normalizes the pageX and pageY\n",
       "    // pageX,Y are the mouse positions relative to the document\n",
       "    // offset() returns the position of the element relative to the document\n",
       "    var x = e.pageX - $(targ).offset().left;\n",
       "    var y = e.pageY - $(targ).offset().top;\n",
       "\n",
       "    return {\"x\": x, \"y\": y};\n",
       "};\n",
       "\n",
       "/*\n",
       " * return a copy of an object with only non-object keys\n",
       " * we need this to avoid circular references\n",
       " * http://stackoverflow.com/a/24161582/3208463\n",
       " */\n",
       "function simpleKeys (original) {\n",
       "  return Object.keys(original).reduce(function (obj, key) {\n",
       "    if (typeof original[key] !== 'object')\n",
       "        obj[key] = original[key]\n",
       "    return obj;\n",
       "  }, {});\n",
       "}\n",
       "\n",
       "mpl.figure.prototype.mouse_event = function(event, name) {\n",
       "    var canvas_pos = mpl.findpos(event)\n",
       "\n",
       "    if (name === 'button_press')\n",
       "    {\n",
       "        this.canvas.focus();\n",
       "        this.canvas_div.focus();\n",
       "    }\n",
       "\n",
       "    var x = canvas_pos.x * mpl.ratio;\n",
       "    var y = canvas_pos.y * mpl.ratio;\n",
       "\n",
       "    this.send_message(name, {x: x, y: y, button: event.button,\n",
       "                             step: event.step,\n",
       "                             guiEvent: simpleKeys(event)});\n",
       "\n",
       "    /* This prevents the web browser from automatically changing to\n",
       "     * the text insertion cursor when the button is pressed.  We want\n",
       "     * to control all of the cursor setting manually through the\n",
       "     * 'cursor' event from matplotlib */\n",
       "    event.preventDefault();\n",
       "    return false;\n",
       "}\n",
       "\n",
       "mpl.figure.prototype._key_event_extra = function(event, name) {\n",
       "    // Handle any extra behaviour associated with a key event\n",
       "}\n",
       "\n",
       "mpl.figure.prototype.key_event = function(event, name) {\n",
       "\n",
       "    // Prevent repeat events\n",
       "    if (name == 'key_press')\n",
       "    {\n",
       "        if (event.which === this._key)\n",
       "            return;\n",
       "        else\n",
       "            this._key = event.which;\n",
       "    }\n",
       "    if (name == 'key_release')\n",
       "        this._key = null;\n",
       "\n",
       "    var value = '';\n",
       "    if (event.ctrlKey && event.which != 17)\n",
       "        value += \"ctrl+\";\n",
       "    if (event.altKey && event.which != 18)\n",
       "        value += \"alt+\";\n",
       "    if (event.shiftKey && event.which != 16)\n",
       "        value += \"shift+\";\n",
       "\n",
       "    value += 'k';\n",
       "    value += event.which.toString();\n",
       "\n",
       "    this._key_event_extra(event, name);\n",
       "\n",
       "    this.send_message(name, {key: value,\n",
       "                             guiEvent: simpleKeys(event)});\n",
       "    return false;\n",
       "}\n",
       "\n",
       "mpl.figure.prototype.toolbar_button_onclick = function(name) {\n",
       "    if (name == 'download') {\n",
       "        this.handle_save(this, null);\n",
       "    } else {\n",
       "        this.send_message(\"toolbar_button\", {name: name});\n",
       "    }\n",
       "};\n",
       "\n",
       "mpl.figure.prototype.toolbar_button_onmouseover = function(tooltip) {\n",
       "    this.message.textContent = tooltip;\n",
       "};\n",
       "mpl.toolbar_items = [[\"Home\", \"Reset original view\", \"fa fa-home icon-home\", \"home\"], [\"Back\", \"Back to previous view\", \"fa fa-arrow-left icon-arrow-left\", \"back\"], [\"Forward\", \"Forward to next view\", \"fa fa-arrow-right icon-arrow-right\", \"forward\"], [\"\", \"\", \"\", \"\"], [\"Pan\", \"Pan axes with left mouse, zoom with right\", \"fa fa-arrows icon-move\", \"pan\"], [\"Zoom\", \"Zoom to rectangle\", \"fa fa-square-o icon-check-empty\", \"zoom\"], [\"\", \"\", \"\", \"\"], [\"Download\", \"Download plot\", \"fa fa-floppy-o icon-save\", \"download\"]];\n",
       "\n",
       "mpl.extensions = [\"eps\", \"pdf\", \"png\", \"ps\", \"raw\", \"svg\"];\n",
       "\n",
       "mpl.default_extension = \"png\";var comm_websocket_adapter = function(comm) {\n",
       "    // Create a \"websocket\"-like object which calls the given IPython comm\n",
       "    // object with the appropriate methods. Currently this is a non binary\n",
       "    // socket, so there is still some room for performance tuning.\n",
       "    var ws = {};\n",
       "\n",
       "    ws.close = function() {\n",
       "        comm.close()\n",
       "    };\n",
       "    ws.send = function(m) {\n",
       "        //console.log('sending', m);\n",
       "        comm.send(m);\n",
       "    };\n",
       "    // Register the callback with on_msg.\n",
       "    comm.on_msg(function(msg) {\n",
       "        //console.log('receiving', msg['content']['data'], msg);\n",
       "        // Pass the mpl event to the overridden (by mpl) onmessage function.\n",
       "        ws.onmessage(msg['content']['data'])\n",
       "    });\n",
       "    return ws;\n",
       "}\n",
       "\n",
       "mpl.mpl_figure_comm = function(comm, msg) {\n",
       "    // This is the function which gets called when the mpl process\n",
       "    // starts-up an IPython Comm through the \"matplotlib\" channel.\n",
       "\n",
       "    var id = msg.content.data.id;\n",
       "    // Get hold of the div created by the display call when the Comm\n",
       "    // socket was opened in Python.\n",
       "    var element = $(\"#\" + id);\n",
       "    var ws_proxy = comm_websocket_adapter(comm)\n",
       "\n",
       "    function ondownload(figure, format) {\n",
       "        window.open(figure.imageObj.src);\n",
       "    }\n",
       "\n",
       "    var fig = new mpl.figure(id, ws_proxy,\n",
       "                           ondownload,\n",
       "                           element.get(0));\n",
       "\n",
       "    // Call onopen now - mpl needs it, as it is assuming we've passed it a real\n",
       "    // web socket which is closed, not our websocket->open comm proxy.\n",
       "    ws_proxy.onopen();\n",
       "\n",
       "    fig.parent_element = element.get(0);\n",
       "    fig.cell_info = mpl.find_output_cell(\"<div id='\" + id + \"'></div>\");\n",
       "    if (!fig.cell_info) {\n",
       "        console.error(\"Failed to find cell for figure\", id, fig);\n",
       "        return;\n",
       "    }\n",
       "\n",
       "    var output_index = fig.cell_info[2]\n",
       "    var cell = fig.cell_info[0];\n",
       "\n",
       "};\n",
       "\n",
       "mpl.figure.prototype.handle_close = function(fig, msg) {\n",
       "    var width = fig.canvas.width/mpl.ratio\n",
       "    fig.root.unbind('remove')\n",
       "\n",
       "    // Update the output cell to use the data from the current canvas.\n",
       "    fig.push_to_output();\n",
       "    var dataURL = fig.canvas.toDataURL();\n",
       "    // Re-enable the keyboard manager in IPython - without this line, in FF,\n",
       "    // the notebook keyboard shortcuts fail.\n",
       "    IPython.keyboard_manager.enable()\n",
       "    $(fig.parent_element).html('<img src=\"' + dataURL + '\" width=\"' + width + '\">');\n",
       "    fig.close_ws(fig, msg);\n",
       "}\n",
       "\n",
       "mpl.figure.prototype.close_ws = function(fig, msg){\n",
       "    fig.send_message('closing', msg);\n",
       "    // fig.ws.close()\n",
       "}\n",
       "\n",
       "mpl.figure.prototype.push_to_output = function(remove_interactive) {\n",
       "    // Turn the data on the canvas into data in the output cell.\n",
       "    var width = this.canvas.width/mpl.ratio\n",
       "    var dataURL = this.canvas.toDataURL();\n",
       "    this.cell_info[1]['text/html'] = '<img src=\"' + dataURL + '\" width=\"' + width + '\">';\n",
       "}\n",
       "\n",
       "mpl.figure.prototype.updated_canvas_event = function() {\n",
       "    // Tell IPython that the notebook contents must change.\n",
       "    IPython.notebook.set_dirty(true);\n",
       "    this.send_message(\"ack\", {});\n",
       "    var fig = this;\n",
       "    // Wait a second, then push the new image to the DOM so\n",
       "    // that it is saved nicely (might be nice to debounce this).\n",
       "    setTimeout(function () { fig.push_to_output() }, 1000);\n",
       "}\n",
       "\n",
       "mpl.figure.prototype._init_toolbar = function() {\n",
       "    var fig = this;\n",
       "\n",
       "    var nav_element = $('<div/>')\n",
       "    nav_element.attr('style', 'width: 100%');\n",
       "    this.root.append(nav_element);\n",
       "\n",
       "    // Define a callback function for later on.\n",
       "    function toolbar_event(event) {\n",
       "        return fig.toolbar_button_onclick(event['data']);\n",
       "    }\n",
       "    function toolbar_mouse_event(event) {\n",
       "        return fig.toolbar_button_onmouseover(event['data']);\n",
       "    }\n",
       "\n",
       "    for(var toolbar_ind in mpl.toolbar_items){\n",
       "        var name = mpl.toolbar_items[toolbar_ind][0];\n",
       "        var tooltip = mpl.toolbar_items[toolbar_ind][1];\n",
       "        var image = mpl.toolbar_items[toolbar_ind][2];\n",
       "        var method_name = mpl.toolbar_items[toolbar_ind][3];\n",
       "\n",
       "        if (!name) { continue; };\n",
       "\n",
       "        var button = $('<button class=\"btn btn-default\" href=\"#\" title=\"' + name + '\"><i class=\"fa ' + image + ' fa-lg\"></i></button>');\n",
       "        button.click(method_name, toolbar_event);\n",
       "        button.mouseover(tooltip, toolbar_mouse_event);\n",
       "        nav_element.append(button);\n",
       "    }\n",
       "\n",
       "    // Add the status bar.\n",
       "    var status_bar = $('<span class=\"mpl-message\" style=\"text-align:right; float: right;\"/>');\n",
       "    nav_element.append(status_bar);\n",
       "    this.message = status_bar[0];\n",
       "\n",
       "    // Add the close button to the window.\n",
       "    var buttongrp = $('<div class=\"btn-group inline pull-right\"></div>');\n",
       "    var button = $('<button class=\"btn btn-mini btn-primary\" href=\"#\" title=\"Stop Interaction\"><i class=\"fa fa-power-off icon-remove icon-large\"></i></button>');\n",
       "    button.click(function (evt) { fig.handle_close(fig, {}); } );\n",
       "    button.mouseover('Stop Interaction', toolbar_mouse_event);\n",
       "    buttongrp.append(button);\n",
       "    var titlebar = this.root.find($('.ui-dialog-titlebar'));\n",
       "    titlebar.prepend(buttongrp);\n",
       "}\n",
       "\n",
       "mpl.figure.prototype._root_extra_style = function(el){\n",
       "    var fig = this\n",
       "    el.on(\"remove\", function(){\n",
       "\tfig.close_ws(fig, {});\n",
       "    });\n",
       "}\n",
       "\n",
       "mpl.figure.prototype._canvas_extra_style = function(el){\n",
       "    // this is important to make the div 'focusable\n",
       "    el.attr('tabindex', 0)\n",
       "    // reach out to IPython and tell the keyboard manager to turn it's self\n",
       "    // off when our div gets focus\n",
       "\n",
       "    // location in version 3\n",
       "    if (IPython.notebook.keyboard_manager) {\n",
       "        IPython.notebook.keyboard_manager.register_events(el);\n",
       "    }\n",
       "    else {\n",
       "        // location in version 2\n",
       "        IPython.keyboard_manager.register_events(el);\n",
       "    }\n",
       "\n",
       "}\n",
       "\n",
       "mpl.figure.prototype._key_event_extra = function(event, name) {\n",
       "    var manager = IPython.notebook.keyboard_manager;\n",
       "    if (!manager)\n",
       "        manager = IPython.keyboard_manager;\n",
       "\n",
       "    // Check for shift+enter\n",
       "    if (event.shiftKey && event.which == 13) {\n",
       "        this.canvas_div.blur();\n",
       "        event.shiftKey = false;\n",
       "        // Send a \"J\" for go to next cell\n",
       "        event.which = 74;\n",
       "        event.keyCode = 74;\n",
       "        manager.command_mode();\n",
       "        manager.handle_keydown(event);\n",
       "    }\n",
       "}\n",
       "\n",
       "mpl.figure.prototype.handle_save = function(fig, msg) {\n",
       "    fig.ondownload(fig, null);\n",
       "}\n",
       "\n",
       "\n",
       "mpl.find_output_cell = function(html_output) {\n",
       "    // Return the cell and output element which can be found *uniquely* in the notebook.\n",
       "    // Note - this is a bit hacky, but it is done because the \"notebook_saving.Notebook\"\n",
       "    // IPython event is triggered only after the cells have been serialised, which for\n",
       "    // our purposes (turning an active figure into a static one), is too late.\n",
       "    var cells = IPython.notebook.get_cells();\n",
       "    var ncells = cells.length;\n",
       "    for (var i=0; i<ncells; i++) {\n",
       "        var cell = cells[i];\n",
       "        if (cell.cell_type === 'code'){\n",
       "            for (var j=0; j<cell.output_area.outputs.length; j++) {\n",
       "                var data = cell.output_area.outputs[j];\n",
       "                if (data.data) {\n",
       "                    // IPython >= 3 moved mimebundle to data attribute of output\n",
       "                    data = data.data;\n",
       "                }\n",
       "                if (data['text/html'] == html_output) {\n",
       "                    return [cell, data, j];\n",
       "                }\n",
       "            }\n",
       "        }\n",
       "    }\n",
       "}\n",
       "\n",
       "// Register the function which deals with the matplotlib target/channel.\n",
       "// The kernel may be null if the page has been refreshed.\n",
       "if (IPython.notebook.kernel != null) {\n",
       "    IPython.notebook.kernel.comm_manager.register_target('matplotlib', mpl.mpl_figure_comm);\n",
       "}\n"
      ],
      "text/plain": [
       "<IPython.core.display.Javascript object>"
      ]
     },
     "metadata": {},
     "output_type": "display_data"
    },
    {
     "data": {
      "text/html": [
       "<img src=\"data:image/png;base64,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\" width=\"640\">"
      ],
      "text/plain": [
       "<IPython.core.display.HTML object>"
      ]
     },
     "metadata": {},
     "output_type": "display_data"
    },
    {
     "data": {
      "text/plain": [
       "Text(0, 0.5, 'y')"
      ]
     },
     "execution_count": 125,
     "metadata": {},
     "output_type": "execute_result"
    }
   ],
   "source": [
    "plt.scatter(x,y)\n",
    "plt.xlabel('x', fontsize=16)\n",
    "plt.ylabel('y', fontsize=16)"
   ]
  },
  {
   "cell_type": "markdown",
   "metadata": {
    "slideshow": {
     "slide_type": "slide"
    }
   },
   "source": [
    "## Problem 2) Fitting a Line to Data\n",
    "\n",
    "There is a very good chance, though I am not specifically assuming anything, that upon making the previous plot you had a thought along the lines of \"these points fall on a line\" or \"these data represent a linear relationship.\"  "
   ]
  },
  {
   "cell_type": "markdown",
   "metadata": {
    "slideshow": {
     "slide_type": "slide"
    }
   },
   "source": [
    "**Problem 2a** \n",
    "\n",
    "Is the assumption of linearity valid for the above data?\n",
    "\n",
    "Is it convenient?"
   ]
  },
  {
   "cell_type": "markdown",
   "metadata": {
    "slideshow": {
     "slide_type": "subslide"
    }
   },
   "source": [
    "*Take a few min to discuss this with your partner*"
   ]
  },
  {
   "cell_type": "markdown",
   "metadata": {
    "slideshow": {
     "slide_type": "subslide"
    }
   },
   "source": [
    "**Solution 2a**\n",
    "\n",
    "*write your answer here*"
   ]
  },
  {
   "cell_type": "markdown",
   "metadata": {
    "slideshow": {
     "slide_type": "slide"
    }
   },
   "source": [
    "Let us proceed with convenience and assume the data represent a linear relationship. In that case, in order to make predictions for future observations, we need to fit a line to the data. \n",
    "\n",
    "The \"standard\" proceedure for doing so is [least-squares fitting](https://en.wikipedia.org/wiki/Least_squares). In brief, least-squares minimizes the sum of the squared value of the residuals between the data and the fitting function."
   ]
  },
  {
   "cell_type": "markdown",
   "metadata": {
    "slideshow": {
     "slide_type": "subslide"
    }
   },
   "source": [
    "I've often joked that all you need to be a good data scientist is [google](https://www.google.com) and [stack overflow](https://stackoverflow.com). Via those two tools, we can quickly deduce that the easiest way to perform a linear least-squares fit to the above data is with [`np.polyfit`](https://docs.scipy.org/doc/numpy/reference/generated/numpy.polyfit.html), which performs a least-squares polynomial fit to two `numpy` arrays."
   ]
  },
  {
   "cell_type": "markdown",
   "metadata": {
    "slideshow": {
     "slide_type": "slide"
    }
   },
   "source": [
    "**Problem 2b**\n",
    "\n",
    "Use `np.polyfit()` to fit a line to the data. Overplot the best-fit line on the data."
   ]
  },
  {
   "cell_type": "code",
   "execution_count": 126,
   "metadata": {
    "slideshow": {
     "slide_type": "subslide"
    }
   },
   "outputs": [
    {
     "data": {
      "text/plain": [
       "<matplotlib.legend.Legend at 0x7fb9ac222630>"
      ]
     },
     "execution_count": 126,
     "metadata": {},
     "output_type": "execute_result"
    }
   ],
   "source": [
    "p = np.polyfit(x,y, deg=1)\n",
    "fit = np.poly1d(p) # a better idea when using high-order polynomials, to remove manual multiplication of terms\n",
    "xnew = np.linspace(min(x), max(x),50)\n",
    "plt.scatter(x,y, label='data')\n",
    "plt.plot(xnew,fit(xnew),color='r', label='fit line')\n",
    "plt.xlabel('x', fontsize=16)\n",
    "plt.ylabel('y', fontsize=16)\n",
    "plt.legend(loc='best', frameon=False)\n",
    "# complete"
   ]
  },
  {
   "cell_type": "markdown",
   "metadata": {
    "slideshow": {
     "slide_type": "subslide"
    }
   },
   "source": [
    "There is a very good chance, though, again, I am not specifically assuming anything, that for the previous plots that you plotted `x` along the abscissa and `y` along the ordinate. \n",
    "\n",
    "[Honestly, there's no one to blame if this is the case, this has essentially been drilled into all of us from the moment we started making plots. In fact, in `matplotlib` we cannot change the name of the abscissa label without adjusting the `xlabel`.]"
   ]
  },
  {
   "cell_type": "markdown",
   "metadata": {
    "slideshow": {
     "slide_type": "slide"
    }
   },
   "source": [
    "This leads us to an important question, however. What if `y` does not depend on `x` and instead `x` depends on `y`? Does that in any way change the results for the fit?"
   ]
  },
  {
   "cell_type": "markdown",
   "metadata": {
    "slideshow": {
     "slide_type": "subslide"
    }
   },
   "source": [
    "**Problem 2c**\n",
    "\n",
    "Perform a linear least-squares fit to `x` vs. `y` (or if you already fit this, then reverse the axes). As above, plot the data and the best-fit model.\n",
    "\n",
    "To test if the relation is the same between the two fits, compare the predicted `y` value for both models corresponding to `x = 300`."
   ]
  },
  {
   "cell_type": "code",
   "execution_count": 128,
   "metadata": {
    "slideshow": {
     "slide_type": "subslide"
    }
   },
   "outputs": [
    {
     "data": {
      "text/plain": [
       "'p_yx = np.polyfit(y,x,deg=1)\\nfit_yx = np.poly1d(p_yx)\\nynew = np.linspace(min(y),max(y),50)\\nplt.scatter(x,y)\\nplt.plot(ynew_yx, fit_yx(ynew_yx))\\nplt.plot(xnew, fit(xnew))\\nprint(fit_yx())'"
      ]
     },
     "execution_count": 128,
     "metadata": {},
     "output_type": "execute_result"
    }
   ],
   "source": [
    "'''p_yx = np.polyfit(y,x,deg=1)\n",
    "fit_yx = np.poly1d(p_yx)\n",
    "ynew = np.linspace(min(y),max(y),50)\n",
    "plt.scatter(x,y)\n",
    "plt.plot(ynew_yx, fit_yx(ynew_yx))\n",
    "plt.plot(xnew, fit(xnew))\n",
    "print(fit_yx())'''"
   ]
  },
  {
   "cell_type": "markdown",
   "metadata": {
    "slideshow": {
     "slide_type": "subslide"
    }
   },
   "source": [
    "So we have now uncovered one of the peculiariaties of least-squares. Fitting `y` vs. `x` is *not* the same as fitting `x` vs. `y`."
   ]
  },
  {
   "cell_type": "markdown",
   "metadata": {
    "slideshow": {
     "slide_type": "slide"
    }
   },
   "source": [
    "There are a couple essential assumptions that go into standard least-squares fitting:\n",
    "\n",
    "1. There is one dimension along which the data have negligible uncertainties\n",
    "2. Along the other dimension **all** of the uncertainties can be described via Gaussians of known variance\n",
    "\n",
    "These two conditions are *rarely* met for astronomical data. While condition 1 can be satisfied (e.g., time series data where there is essentially no uncertainty on the time of the observations), I contend that condition 2 is rarely, if ever, satisfied."
   ]
  },
  {
   "cell_type": "markdown",
   "metadata": {
    "slideshow": {
     "slide_type": "subslide"
    }
   },
   "source": [
    "Speaking of uncertainties(1), we have not utilized any thus far. [I hope this has raised some warning bells.]\n",
    "\n",
    "We will now re-organize our data to match what is originally in Hogg, Bovy, & Lang (previously `x` and `y` were swapped).\n",
    "\n",
    "(1) There is an amazing footnote in Hogg, Bovy, & Lang about \"errors\" vs. \"uncertainties\" - I suggest everyone read this."
   ]
  },
  {
   "cell_type": "markdown",
   "metadata": {},
   "source": [
    "**Problem 2d**\n",
    "\n",
    "Re-plot the data including the uncertatines."
   ]
  },
  {
   "cell_type": "code",
   "execution_count": 129,
   "metadata": {
    "slideshow": {
     "slide_type": "subslide"
    }
   },
   "outputs": [],
   "source": [
    "x = np.array([203, 58, 210, 202, 198, 158, \n",
    "              165, 201, 157, 131, 166, 160, \n",
    "              186, 125, 218, 146])\n",
    "y = np.array([495, 173, 479, 504, 510, 416, \n",
    "              393, 442, 317, 311, 400, 337, \n",
    "              423, 334, 533, 344])\n",
    "sigma_y = np.array([21, 15, 27, 14, 30, 16, \n",
    "                    14, 25, 52, 16, 34, 31, \n",
    "                    42, 26, 16, 22])\n",
    "\n",
    "plt.errorbar(x,y,yerr=sigma_y,fmt='o')\n",
    "plt.xlabel('x', fontsize=16)\n",
    "plt.ylabel('y', fontsize=16)\n",
    "plt.show()"
   ]
  },
  {
   "cell_type": "markdown",
   "metadata": {
    "slideshow": {
     "slide_type": "subslide"
    }
   },
   "source": [
    "We are now assuming that `x` has negligible uncertainties and that `y` has uncertainties that can be perfectly described by Gaussians of known variance."
   ]
  },
  {
   "cell_type": "markdown",
   "metadata": {
    "slideshow": {
     "slide_type": "slide"
    }
   },
   "source": [
    "A portion of the appeal of least-squares is that it provides a deterministic method for determining the best fit. To understand that we now need to do a little linear algebra.\n",
    "\n",
    "We can arrange the data in the following matricies:\n",
    "\n",
    "$$ \\mathbf{Y} = \\left[ {\\begin{array}{c}\n",
    "            y_1 \\\\\n",
    "            y_2 \\\\\n",
    "            \\dots \\\\\n",
    "            y_N\n",
    "            \\end{array}\n",
    "           }\n",
    "            \\right] , $$\n",
    "\n",
    "$$ \\mathbf{A} = \\left[ {\\begin{array}{cc}\n",
    "            1 & x_1 \\\\\n",
    "            1 & x_2 \\\\\n",
    "            \\dots & \\dots \\\\\n",
    "            1 & x_N\n",
    "            \\end{array}\n",
    "           }\n",
    "           \\right] ,\n",
    "           $$\n",
    "           \n",
    "$$ \\mathbf{C} = \\left[ {\\begin{array}{cccc}\n",
    "            \\sigma_{y_1}^2 & 0 & \\dots & 0 \\\\\n",
    "            0 & \\sigma_{y_2}^2 & \\dots & 0 \\\\\n",
    "            \\vdots & \\vdots & \\ddots & \\vdots \\\\\n",
    "            0 & 0 & \\dots & \\sigma_{y_1}^2 \\\\\n",
    "            \\end{array}\n",
    "           }\n",
    "           \\right] ,\n",
    "           $$\n",
    "           \n",
    "where $\\mathbf{Y}$ is a vector, and $\\mathbf{C}$ is the covariance matrix. "
   ]
  },
  {
   "cell_type": "markdown",
   "metadata": {
    "slideshow": {
     "slide_type": "subslide"
    }
   },
   "source": [
    "Ultimately, we need to solve the equation\n",
    "\n",
    "$$\\mathbf{Y} = \\mathbf{A}\\mathbf{X}.$$\n",
    "\n",
    "I am skipping the derivation, but the solution to this equations is:\n",
    "\n",
    "$$ \\left[ {\\begin{array}{c}\n",
    "            b \\\\\n",
    "            m \\\\\n",
    "            \\end{array}\n",
    "           }\n",
    "            \\right] = \\mathbf{X} = \\left[ \\mathbf{A}^T \\mathbf{C}^{-1} \\mathbf{A}\\right]^{-1} \\left[ \\mathbf{A}^T \\mathbf{C}^{-1} \\mathbf{Y}\\right].$$\n",
    "\n"
   ]
  },
  {
   "cell_type": "markdown",
   "metadata": {
    "slideshow": {
     "slide_type": "subslide"
    }
   },
   "source": [
    "As noted in Hogg, Bovy, & Lang, this procedure minimizes the $\\chi^2$ function, which is the total squared error, after appropriately scaling by the uncertainties:\n",
    "\n",
    "$$ \\chi^2 = \\Sigma_{i = 1}^{N} \\frac{[y_i - f(x_i)]^2}{\\sigma_{y_i}^2} = \\left[ \\mathbf{Y}  - \\mathbf{A}\\mathbf{X}\\right]^{T} \\mathbf{C}^{-1} \\left[ \\mathbf{Y} - \\mathbf{A} \\mathbf{X}\\right].$$"
   ]
  },
  {
   "cell_type": "markdown",
   "metadata": {
    "slideshow": {
     "slide_type": "slide"
    }
   },
   "source": [
    "**Problem 2e** \n",
    "\n",
    "Using the linear algebra equations above (i.e. avoid `np.polyfit` or any other similar functions), determine the weighted least-squares best-fit values for $b$ and $m$, the intercept and slope, respectively.\n",
    "\n",
    "Plot the results of the best-fit line. How does this compare to the above estimates?"
   ]
  },
  {
   "cell_type": "code",
   "execution_count": null,
   "metadata": {},
   "outputs": [],
   "source": [
    "np.vstack?"
   ]
  },
  {
   "cell_type": "code",
   "execution_count": 130,
   "metadata": {
    "slideshow": {
     "slide_type": "subslide"
    }
   },
   "outputs": [
    {
     "ename": "TypeError",
     "evalue": "Object arrays are not currently supported",
     "output_type": "error",
     "traceback": [
      "\u001b[0;31m---------------------------------------------------------------------------\u001b[0m",
      "\u001b[0;31mTypeError\u001b[0m                                 Traceback (most recent call last)",
      "\u001b[0;32m<ipython-input-130-987496c6765c>\u001b[0m in \u001b[0;36m<module>\u001b[0;34m\u001b[0m\n\u001b[1;32m      3\u001b[0m \u001b[0mC\u001b[0m \u001b[0;34m=\u001b[0m \u001b[0mnp\u001b[0m\u001b[0;34m.\u001b[0m\u001b[0mdiag\u001b[0m\u001b[0;34m(\u001b[0m\u001b[0msigma_y\u001b[0m\u001b[0;34m**\u001b[0m\u001b[0;36m2\u001b[0m\u001b[0;34m)\u001b[0m\u001b[0;34m\u001b[0m\u001b[0m\n\u001b[1;32m      4\u001b[0m \u001b[0;34m\u001b[0m\u001b[0m\n\u001b[0;32m----> 5\u001b[0;31m \u001b[0mX\u001b[0m \u001b[0;34m=\u001b[0m \u001b[0mnp\u001b[0m\u001b[0;34m.\u001b[0m\u001b[0mlinalg\u001b[0m\u001b[0;34m.\u001b[0m\u001b[0minv\u001b[0m\u001b[0;34m(\u001b[0m\u001b[0mA\u001b[0m\u001b[0;34m.\u001b[0m\u001b[0mtranspose\u001b[0m\u001b[0;34m@\u001b[0m\u001b[0mnp\u001b[0m\u001b[0;34m.\u001b[0m\u001b[0mlinalg\u001b[0m\u001b[0;34m.\u001b[0m\u001b[0minv\u001b[0m\u001b[0;34m(\u001b[0m\u001b[0mC\u001b[0m\u001b[0;34m)\u001b[0m\u001b[0;34m@\u001b[0m\u001b[0mA\u001b[0m\u001b[0;34m)\u001b[0m\u001b[0;34m@\u001b[0m\u001b[0;34m(\u001b[0m\u001b[0mA\u001b[0m\u001b[0;34m.\u001b[0m\u001b[0mtranspose\u001b[0m\u001b[0;34m@\u001b[0m\u001b[0mnp\u001b[0m\u001b[0;34m.\u001b[0m\u001b[0mlinalg\u001b[0m\u001b[0;34m.\u001b[0m\u001b[0minv\u001b[0m\u001b[0;34m(\u001b[0m\u001b[0mC\u001b[0m\u001b[0;34m)\u001b[0m\u001b[0;34m@\u001b[0m\u001b[0mY\u001b[0m\u001b[0;34m)\u001b[0m\u001b[0;34m\u001b[0m\u001b[0m\n\u001b[0m\u001b[1;32m      6\u001b[0m \u001b[0mbest_fit\u001b[0m \u001b[0;34m=\u001b[0m \u001b[0mnp\u001b[0m\u001b[0;34m.\u001b[0m\u001b[0mpoly1d\u001b[0m\u001b[0;34m(\u001b[0m\u001b[0mX\u001b[0m\u001b[0;34m[\u001b[0m\u001b[0;34m:\u001b[0m\u001b[0;34m:\u001b[0m\u001b[0;34m-\u001b[0m\u001b[0;36m1\u001b[0m\u001b[0;34m,\u001b[0m\u001b[0;36m0\u001b[0m\u001b[0;34m]\u001b[0m\u001b[0;34m)\u001b[0m\u001b[0;34m\u001b[0m\u001b[0m\n\u001b[1;32m      7\u001b[0m \u001b[0;31m# transpose is the T equivalent?\u001b[0m\u001b[0;34m\u001b[0m\u001b[0;34m\u001b[0m\u001b[0m\n",
      "\u001b[0;31mTypeError\u001b[0m: Object arrays are not currently supported"
     ]
    }
   ],
   "source": [
    "Y = y.reshape(-1,1)\n",
    "A = np.vstack((np.ones_like(x), x)).T\n",
    "C = np.diag(sigma_y**2)\n",
    "\n",
    "X = np.linalg.inv(A.transpose@np.linalg.inv(C)@A)@(A.transpose@np.linalg.inv(C)@Y)\n",
    "best_fit = np.poly1d(X[::-1,0])\n",
    "# transpose is the T equivalent?\n",
    "# np.linalg.inv is how to take an inverse\n",
    "# @ is to do matrix multiplication\n",
    "\n",
    "#best_fit = X\n",
    "\n",
    "#plt.errorbar( # complete\n",
    "#plt.plot( # complete\n",
    "\n",
    "#print(\"The best-fit value for the slope and intercept are: {:.4f} and {:.4f}\".format( # complete"
   ]
  },
  {
   "cell_type": "markdown",
   "metadata": {
    "slideshow": {
     "slide_type": "slide"
    }
   },
   "source": [
    "**Problem 2f**\n",
    "\n",
    "Confirm the results of this fit are the same as those from `np.polyfit`.\n",
    "\n",
    "*Hint - be sure to include the uncertainties.*"
   ]
  },
  {
   "cell_type": "code",
   "execution_count": null,
   "metadata": {
    "slideshow": {
     "slide_type": "subslide"
    }
   },
   "outputs": [],
   "source": [
    "p = np.polyfit( # complete\n",
    "print(\"The best-fit value for the slope and intercept are: {:.4f} and {:.4f}\".format( # complete"
   ]
  },
  {
   "cell_type": "markdown",
   "metadata": {
    "slideshow": {
     "slide_type": "slide"
    }
   },
   "source": [
    "## Problem 3) Are the Uncertainties Actually Gaussian?\n",
    "\n",
    "Previously we noted that there are two essential assumptions that are required for least-squares fitting to be correct. We are now going to examine the latter requirement, namely, that the uncertainties can be perfectly described as Gaussians with known variance."
   ]
  },
  {
   "cell_type": "markdown",
   "metadata": {
    "slideshow": {
     "slide_type": "subslide"
    }
   },
   "source": [
    "Earlier I stated this assumption is rarely satisfied. Why might this be the case? \n",
    "\n",
    "In my experience (meaning this is hardly universal), if it's astro, it's got systematics. While I cannot prove this, I contend that systematic uncertainties are rarely Gaussian. If you are lucky enough to be in a regime where you can be confident that the systematics are Gaussian, I further contend that it is extremely difficult to be certain that the variance of that Gaussian is known."
   ]
  },
  {
   "cell_type": "markdown",
   "metadata": {
    "slideshow": {
     "slide_type": "subslide"
    }
   },
   "source": [
    "Then there's another (astro-specific) challenge: in many circumstances, we aren't actually working with data, but rather with the results of other models applied to the data.\n",
    "\n",
    "Let's take an optical astronomy (biased, but this is LSST after all) example. What are the data? In many cases inference is being based on measurements of brightness, but the true data in this case is simply a bunch of electron counts in a CCD. The brightness (or mag) is based on the application of a model (e.g., PSF, aperture, Kron) that is applied to the data. Thus, to assume that a flux (or mag) measurement has Gaussian uncertainties with known variance is to assume that whatever flux-measurement model has been applied always produces perfectly Gaussian uncertainties (and a lot of different assumptions go into flux-measurement models...)"
   ]
  },
  {
   "cell_type": "markdown",
   "metadata": {
    "slideshow": {
     "slide_type": "subslide"
    }
   },
   "source": [
    "As a demonstration associated with the challenges of these assumptions, we will examine the data set presented in Hogg, Bovy, & Lang. "
   ]
  },
  {
   "cell_type": "code",
   "execution_count": 131,
   "metadata": {
    "slideshow": {
     "slide_type": "subslide"
    }
   },
   "outputs": [],
   "source": [
    "x = np.array([201, 201, 287, 166,  58, 157, 146, 218, 203, 186, 160,  47, 210,\n",
    "       131, 202, 125, 158, 198, 165, 244])\n",
    "y = np.array([592, 442, 402, 400, 173, 317, 344, 533, 495, 423, 337, 583, 479,\n",
    "       311, 504, 334, 416, 510, 393, 401])\n",
    "sigma_y = np.array([61, 25, 15, 34, 15, 52, 22, 16, 21, 42, 31, 38, 27, 16, 14, 26, 16,\n",
    "       30, 14, 25])"
   ]
  },
  {
   "cell_type": "markdown",
   "metadata": {
    "slideshow": {
     "slide_type": "slide"
    }
   },
   "source": [
    "**Problem 3a**\n",
    "\n",
    "Using the least-squares methodology developed in Problem 2, determine the best-fit slope and intercept for a line fit to the data above. \n",
    "\n",
    "Make a scatter plot of the data, and overplot the best-fit line. What if anything, do you notice about the data and the fit?"
   ]
  },
  {
   "cell_type": "code",
   "execution_count": 134,
   "metadata": {
    "slideshow": {
     "slide_type": "subslide"
    }
   },
   "outputs": [
    {
     "data": {
      "text/plain": [
       "[<matplotlib.lines.Line2D at 0x7fb9ac1cec88>]"
      ]
     },
     "execution_count": 134,
     "metadata": {},
     "output_type": "execute_result"
    }
   ],
   "source": [
    "p = np.polyfit(x,y,deg=1)\n",
    "fit = np.poly1d(p)\n",
    "xnew = np.linspace(min(x), max(x),50)\n",
    "plt.errorbar(x,y,yerr=sigma_y,fmt='o')\n",
    "plt.plot(xnew,fit(xnew))\n",
    "\n",
    "#print(\"The best-fit value for the slope and intercept are: {:.4f} and {:.4f}\".format( # complete"
   ]
  },
  {
   "cell_type": "markdown",
   "metadata": {
    "slideshow": {
     "slide_type": "subslide"
    }
   },
   "source": [
    "Unlike the data in Problems 1 and 2, there appear to be some significant outliers (of course - this appearance of outliers is entirely dependent upon the assumption of linearity, there may actually be no outliers and a complex relation between `x` and `y`). As such, it does not appear (to me) as though the best-fit line provides a good model for the data."
   ]
  },
  {
   "cell_type": "markdown",
   "metadata": {
    "slideshow": {
     "slide_type": "slide"
    }
   },
   "source": [
    "**Problem 3b**\n",
    "\n",
    "Perform a least-squares 2nd order polynomial fit to the data. Overplot the bestfit curve.\n",
    "\n",
    "How does this compare to the linear model fit?"
   ]
  },
  {
   "cell_type": "code",
   "execution_count": 139,
   "metadata": {},
   "outputs": [
    {
     "data": {
      "application/javascript": [
       "/* Put everything inside the global mpl namespace */\n",
       "window.mpl = {};\n",
       "\n",
       "\n",
       "mpl.get_websocket_type = function() {\n",
       "    if (typeof(WebSocket) !== 'undefined') {\n",
       "        return WebSocket;\n",
       "    } else if (typeof(MozWebSocket) !== 'undefined') {\n",
       "        return MozWebSocket;\n",
       "    } else {\n",
       "        alert('Your browser does not have WebSocket support.' +\n",
       "              'Please try Chrome, Safari or Firefox ≥ 6. ' +\n",
       "              'Firefox 4 and 5 are also supported but you ' +\n",
       "              'have to enable WebSockets in about:config.');\n",
       "    };\n",
       "}\n",
       "\n",
       "mpl.figure = function(figure_id, websocket, ondownload, parent_element) {\n",
       "    this.id = figure_id;\n",
       "\n",
       "    this.ws = websocket;\n",
       "\n",
       "    this.supports_binary = (this.ws.binaryType != undefined);\n",
       "\n",
       "    if (!this.supports_binary) {\n",
       "        var warnings = document.getElementById(\"mpl-warnings\");\n",
       "        if (warnings) {\n",
       "            warnings.style.display = 'block';\n",
       "            warnings.textContent = (\n",
       "                \"This browser does not support binary websocket messages. \" +\n",
       "                    \"Performance may be slow.\");\n",
       "        }\n",
       "    }\n",
       "\n",
       "    this.imageObj = new Image();\n",
       "\n",
       "    this.context = undefined;\n",
       "    this.message = undefined;\n",
       "    this.canvas = undefined;\n",
       "    this.rubberband_canvas = undefined;\n",
       "    this.rubberband_context = undefined;\n",
       "    this.format_dropdown = undefined;\n",
       "\n",
       "    this.image_mode = 'full';\n",
       "\n",
       "    this.root = $('<div/>');\n",
       "    this._root_extra_style(this.root)\n",
       "    this.root.attr('style', 'display: inline-block');\n",
       "\n",
       "    $(parent_element).append(this.root);\n",
       "\n",
       "    this._init_header(this);\n",
       "    this._init_canvas(this);\n",
       "    this._init_toolbar(this);\n",
       "\n",
       "    var fig = this;\n",
       "\n",
       "    this.waiting = false;\n",
       "\n",
       "    this.ws.onopen =  function () {\n",
       "            fig.send_message(\"supports_binary\", {value: fig.supports_binary});\n",
       "            fig.send_message(\"send_image_mode\", {});\n",
       "            if (mpl.ratio != 1) {\n",
       "                fig.send_message(\"set_dpi_ratio\", {'dpi_ratio': mpl.ratio});\n",
       "            }\n",
       "            fig.send_message(\"refresh\", {});\n",
       "        }\n",
       "\n",
       "    this.imageObj.onload = function() {\n",
       "            if (fig.image_mode == 'full') {\n",
       "                // Full images could contain transparency (where diff images\n",
       "                // almost always do), so we need to clear the canvas so that\n",
       "                // there is no ghosting.\n",
       "                fig.context.clearRect(0, 0, fig.canvas.width, fig.canvas.height);\n",
       "            }\n",
       "            fig.context.drawImage(fig.imageObj, 0, 0);\n",
       "        };\n",
       "\n",
       "    this.imageObj.onunload = function() {\n",
       "        fig.ws.close();\n",
       "    }\n",
       "\n",
       "    this.ws.onmessage = this._make_on_message_function(this);\n",
       "\n",
       "    this.ondownload = ondownload;\n",
       "}\n",
       "\n",
       "mpl.figure.prototype._init_header = function() {\n",
       "    var titlebar = $(\n",
       "        '<div class=\"ui-dialog-titlebar ui-widget-header ui-corner-all ' +\n",
       "        'ui-helper-clearfix\"/>');\n",
       "    var titletext = $(\n",
       "        '<div class=\"ui-dialog-title\" style=\"width: 100%; ' +\n",
       "        'text-align: center; padding: 3px;\"/>');\n",
       "    titlebar.append(titletext)\n",
       "    this.root.append(titlebar);\n",
       "    this.header = titletext[0];\n",
       "}\n",
       "\n",
       "\n",
       "\n",
       "mpl.figure.prototype._canvas_extra_style = function(canvas_div) {\n",
       "\n",
       "}\n",
       "\n",
       "\n",
       "mpl.figure.prototype._root_extra_style = function(canvas_div) {\n",
       "\n",
       "}\n",
       "\n",
       "mpl.figure.prototype._init_canvas = function() {\n",
       "    var fig = this;\n",
       "\n",
       "    var canvas_div = $('<div/>');\n",
       "\n",
       "    canvas_div.attr('style', 'position: relative; clear: both; outline: 0');\n",
       "\n",
       "    function canvas_keyboard_event(event) {\n",
       "        return fig.key_event(event, event['data']);\n",
       "    }\n",
       "\n",
       "    canvas_div.keydown('key_press', canvas_keyboard_event);\n",
       "    canvas_div.keyup('key_release', canvas_keyboard_event);\n",
       "    this.canvas_div = canvas_div\n",
       "    this._canvas_extra_style(canvas_div)\n",
       "    this.root.append(canvas_div);\n",
       "\n",
       "    var canvas = $('<canvas/>');\n",
       "    canvas.addClass('mpl-canvas');\n",
       "    canvas.attr('style', \"left: 0; top: 0; z-index: 0; outline: 0\")\n",
       "\n",
       "    this.canvas = canvas[0];\n",
       "    this.context = canvas[0].getContext(\"2d\");\n",
       "\n",
       "    var backingStore = this.context.backingStorePixelRatio ||\n",
       "\tthis.context.webkitBackingStorePixelRatio ||\n",
       "\tthis.context.mozBackingStorePixelRatio ||\n",
       "\tthis.context.msBackingStorePixelRatio ||\n",
       "\tthis.context.oBackingStorePixelRatio ||\n",
       "\tthis.context.backingStorePixelRatio || 1;\n",
       "\n",
       "    mpl.ratio = (window.devicePixelRatio || 1) / backingStore;\n",
       "\n",
       "    var rubberband = $('<canvas/>');\n",
       "    rubberband.attr('style', \"position: absolute; left: 0; top: 0; z-index: 1;\")\n",
       "\n",
       "    var pass_mouse_events = true;\n",
       "\n",
       "    canvas_div.resizable({\n",
       "        start: function(event, ui) {\n",
       "            pass_mouse_events = false;\n",
       "        },\n",
       "        resize: function(event, ui) {\n",
       "            fig.request_resize(ui.size.width, ui.size.height);\n",
       "        },\n",
       "        stop: function(event, ui) {\n",
       "            pass_mouse_events = true;\n",
       "            fig.request_resize(ui.size.width, ui.size.height);\n",
       "        },\n",
       "    });\n",
       "\n",
       "    function mouse_event_fn(event) {\n",
       "        if (pass_mouse_events)\n",
       "            return fig.mouse_event(event, event['data']);\n",
       "    }\n",
       "\n",
       "    rubberband.mousedown('button_press', mouse_event_fn);\n",
       "    rubberband.mouseup('button_release', mouse_event_fn);\n",
       "    // Throttle sequential mouse events to 1 every 20ms.\n",
       "    rubberband.mousemove('motion_notify', mouse_event_fn);\n",
       "\n",
       "    rubberband.mouseenter('figure_enter', mouse_event_fn);\n",
       "    rubberband.mouseleave('figure_leave', mouse_event_fn);\n",
       "\n",
       "    canvas_div.on(\"wheel\", function (event) {\n",
       "        event = event.originalEvent;\n",
       "        event['data'] = 'scroll'\n",
       "        if (event.deltaY < 0) {\n",
       "            event.step = 1;\n",
       "        } else {\n",
       "            event.step = -1;\n",
       "        }\n",
       "        mouse_event_fn(event);\n",
       "    });\n",
       "\n",
       "    canvas_div.append(canvas);\n",
       "    canvas_div.append(rubberband);\n",
       "\n",
       "    this.rubberband = rubberband;\n",
       "    this.rubberband_canvas = rubberband[0];\n",
       "    this.rubberband_context = rubberband[0].getContext(\"2d\");\n",
       "    this.rubberband_context.strokeStyle = \"#000000\";\n",
       "\n",
       "    this._resize_canvas = function(width, height) {\n",
       "        // Keep the size of the canvas, canvas container, and rubber band\n",
       "        // canvas in synch.\n",
       "        canvas_div.css('width', width)\n",
       "        canvas_div.css('height', height)\n",
       "\n",
       "        canvas.attr('width', width * mpl.ratio);\n",
       "        canvas.attr('height', height * mpl.ratio);\n",
       "        canvas.attr('style', 'width: ' + width + 'px; height: ' + height + 'px;');\n",
       "\n",
       "        rubberband.attr('width', width);\n",
       "        rubberband.attr('height', height);\n",
       "    }\n",
       "\n",
       "    // Set the figure to an initial 600x600px, this will subsequently be updated\n",
       "    // upon first draw.\n",
       "    this._resize_canvas(600, 600);\n",
       "\n",
       "    // Disable right mouse context menu.\n",
       "    $(this.rubberband_canvas).bind(\"contextmenu\",function(e){\n",
       "        return false;\n",
       "    });\n",
       "\n",
       "    function set_focus () {\n",
       "        canvas.focus();\n",
       "        canvas_div.focus();\n",
       "    }\n",
       "\n",
       "    window.setTimeout(set_focus, 100);\n",
       "}\n",
       "\n",
       "mpl.figure.prototype._init_toolbar = function() {\n",
       "    var fig = this;\n",
       "\n",
       "    var nav_element = $('<div/>')\n",
       "    nav_element.attr('style', 'width: 100%');\n",
       "    this.root.append(nav_element);\n",
       "\n",
       "    // Define a callback function for later on.\n",
       "    function toolbar_event(event) {\n",
       "        return fig.toolbar_button_onclick(event['data']);\n",
       "    }\n",
       "    function toolbar_mouse_event(event) {\n",
       "        return fig.toolbar_button_onmouseover(event['data']);\n",
       "    }\n",
       "\n",
       "    for(var toolbar_ind in mpl.toolbar_items) {\n",
       "        var name = mpl.toolbar_items[toolbar_ind][0];\n",
       "        var tooltip = mpl.toolbar_items[toolbar_ind][1];\n",
       "        var image = mpl.toolbar_items[toolbar_ind][2];\n",
       "        var method_name = mpl.toolbar_items[toolbar_ind][3];\n",
       "\n",
       "        if (!name) {\n",
       "            // put a spacer in here.\n",
       "            continue;\n",
       "        }\n",
       "        var button = $('<button/>');\n",
       "        button.addClass('ui-button ui-widget ui-state-default ui-corner-all ' +\n",
       "                        'ui-button-icon-only');\n",
       "        button.attr('role', 'button');\n",
       "        button.attr('aria-disabled', 'false');\n",
       "        button.click(method_name, toolbar_event);\n",
       "        button.mouseover(tooltip, toolbar_mouse_event);\n",
       "\n",
       "        var icon_img = $('<span/>');\n",
       "        icon_img.addClass('ui-button-icon-primary ui-icon');\n",
       "        icon_img.addClass(image);\n",
       "        icon_img.addClass('ui-corner-all');\n",
       "\n",
       "        var tooltip_span = $('<span/>');\n",
       "        tooltip_span.addClass('ui-button-text');\n",
       "        tooltip_span.html(tooltip);\n",
       "\n",
       "        button.append(icon_img);\n",
       "        button.append(tooltip_span);\n",
       "\n",
       "        nav_element.append(button);\n",
       "    }\n",
       "\n",
       "    var fmt_picker_span = $('<span/>');\n",
       "\n",
       "    var fmt_picker = $('<select/>');\n",
       "    fmt_picker.addClass('mpl-toolbar-option ui-widget ui-widget-content');\n",
       "    fmt_picker_span.append(fmt_picker);\n",
       "    nav_element.append(fmt_picker_span);\n",
       "    this.format_dropdown = fmt_picker[0];\n",
       "\n",
       "    for (var ind in mpl.extensions) {\n",
       "        var fmt = mpl.extensions[ind];\n",
       "        var option = $(\n",
       "            '<option/>', {selected: fmt === mpl.default_extension}).html(fmt);\n",
       "        fmt_picker.append(option)\n",
       "    }\n",
       "\n",
       "    // Add hover states to the ui-buttons\n",
       "    $( \".ui-button\" ).hover(\n",
       "        function() { $(this).addClass(\"ui-state-hover\");},\n",
       "        function() { $(this).removeClass(\"ui-state-hover\");}\n",
       "    );\n",
       "\n",
       "    var status_bar = $('<span class=\"mpl-message\"/>');\n",
       "    nav_element.append(status_bar);\n",
       "    this.message = status_bar[0];\n",
       "}\n",
       "\n",
       "mpl.figure.prototype.request_resize = function(x_pixels, y_pixels) {\n",
       "    // Request matplotlib to resize the figure. Matplotlib will then trigger a resize in the client,\n",
       "    // which will in turn request a refresh of the image.\n",
       "    this.send_message('resize', {'width': x_pixels, 'height': y_pixels});\n",
       "}\n",
       "\n",
       "mpl.figure.prototype.send_message = function(type, properties) {\n",
       "    properties['type'] = type;\n",
       "    properties['figure_id'] = this.id;\n",
       "    this.ws.send(JSON.stringify(properties));\n",
       "}\n",
       "\n",
       "mpl.figure.prototype.send_draw_message = function() {\n",
       "    if (!this.waiting) {\n",
       "        this.waiting = true;\n",
       "        this.ws.send(JSON.stringify({type: \"draw\", figure_id: this.id}));\n",
       "    }\n",
       "}\n",
       "\n",
       "\n",
       "mpl.figure.prototype.handle_save = function(fig, msg) {\n",
       "    var format_dropdown = fig.format_dropdown;\n",
       "    var format = format_dropdown.options[format_dropdown.selectedIndex].value;\n",
       "    fig.ondownload(fig, format);\n",
       "}\n",
       "\n",
       "\n",
       "mpl.figure.prototype.handle_resize = function(fig, msg) {\n",
       "    var size = msg['size'];\n",
       "    if (size[0] != fig.canvas.width || size[1] != fig.canvas.height) {\n",
       "        fig._resize_canvas(size[0], size[1]);\n",
       "        fig.send_message(\"refresh\", {});\n",
       "    };\n",
       "}\n",
       "\n",
       "mpl.figure.prototype.handle_rubberband = function(fig, msg) {\n",
       "    var x0 = msg['x0'] / mpl.ratio;\n",
       "    var y0 = (fig.canvas.height - msg['y0']) / mpl.ratio;\n",
       "    var x1 = msg['x1'] / mpl.ratio;\n",
       "    var y1 = (fig.canvas.height - msg['y1']) / mpl.ratio;\n",
       "    x0 = Math.floor(x0) + 0.5;\n",
       "    y0 = Math.floor(y0) + 0.5;\n",
       "    x1 = Math.floor(x1) + 0.5;\n",
       "    y1 = Math.floor(y1) + 0.5;\n",
       "    var min_x = Math.min(x0, x1);\n",
       "    var min_y = Math.min(y0, y1);\n",
       "    var width = Math.abs(x1 - x0);\n",
       "    var height = Math.abs(y1 - y0);\n",
       "\n",
       "    fig.rubberband_context.clearRect(\n",
       "        0, 0, fig.canvas.width, fig.canvas.height);\n",
       "\n",
       "    fig.rubberband_context.strokeRect(min_x, min_y, width, height);\n",
       "}\n",
       "\n",
       "mpl.figure.prototype.handle_figure_label = function(fig, msg) {\n",
       "    // Updates the figure title.\n",
       "    fig.header.textContent = msg['label'];\n",
       "}\n",
       "\n",
       "mpl.figure.prototype.handle_cursor = function(fig, msg) {\n",
       "    var cursor = msg['cursor'];\n",
       "    switch(cursor)\n",
       "    {\n",
       "    case 0:\n",
       "        cursor = 'pointer';\n",
       "        break;\n",
       "    case 1:\n",
       "        cursor = 'default';\n",
       "        break;\n",
       "    case 2:\n",
       "        cursor = 'crosshair';\n",
       "        break;\n",
       "    case 3:\n",
       "        cursor = 'move';\n",
       "        break;\n",
       "    }\n",
       "    fig.rubberband_canvas.style.cursor = cursor;\n",
       "}\n",
       "\n",
       "mpl.figure.prototype.handle_message = function(fig, msg) {\n",
       "    fig.message.textContent = msg['message'];\n",
       "}\n",
       "\n",
       "mpl.figure.prototype.handle_draw = function(fig, msg) {\n",
       "    // Request the server to send over a new figure.\n",
       "    fig.send_draw_message();\n",
       "}\n",
       "\n",
       "mpl.figure.prototype.handle_image_mode = function(fig, msg) {\n",
       "    fig.image_mode = msg['mode'];\n",
       "}\n",
       "\n",
       "mpl.figure.prototype.updated_canvas_event = function() {\n",
       "    // Called whenever the canvas gets updated.\n",
       "    this.send_message(\"ack\", {});\n",
       "}\n",
       "\n",
       "// A function to construct a web socket function for onmessage handling.\n",
       "// Called in the figure constructor.\n",
       "mpl.figure.prototype._make_on_message_function = function(fig) {\n",
       "    return function socket_on_message(evt) {\n",
       "        if (evt.data instanceof Blob) {\n",
       "            /* FIXME: We get \"Resource interpreted as Image but\n",
       "             * transferred with MIME type text/plain:\" errors on\n",
       "             * Chrome.  But how to set the MIME type?  It doesn't seem\n",
       "             * to be part of the websocket stream */\n",
       "            evt.data.type = \"image/png\";\n",
       "\n",
       "            /* Free the memory for the previous frames */\n",
       "            if (fig.imageObj.src) {\n",
       "                (window.URL || window.webkitURL).revokeObjectURL(\n",
       "                    fig.imageObj.src);\n",
       "            }\n",
       "\n",
       "            fig.imageObj.src = (window.URL || window.webkitURL).createObjectURL(\n",
       "                evt.data);\n",
       "            fig.updated_canvas_event();\n",
       "            fig.waiting = false;\n",
       "            return;\n",
       "        }\n",
       "        else if (typeof evt.data === 'string' && evt.data.slice(0, 21) == \"data:image/png;base64\") {\n",
       "            fig.imageObj.src = evt.data;\n",
       "            fig.updated_canvas_event();\n",
       "            fig.waiting = false;\n",
       "            return;\n",
       "        }\n",
       "\n",
       "        var msg = JSON.parse(evt.data);\n",
       "        var msg_type = msg['type'];\n",
       "\n",
       "        // Call the  \"handle_{type}\" callback, which takes\n",
       "        // the figure and JSON message as its only arguments.\n",
       "        try {\n",
       "            var callback = fig[\"handle_\" + msg_type];\n",
       "        } catch (e) {\n",
       "            console.log(\"No handler for the '\" + msg_type + \"' message type: \", msg);\n",
       "            return;\n",
       "        }\n",
       "\n",
       "        if (callback) {\n",
       "            try {\n",
       "                // console.log(\"Handling '\" + msg_type + \"' message: \", msg);\n",
       "                callback(fig, msg);\n",
       "            } catch (e) {\n",
       "                console.log(\"Exception inside the 'handler_\" + msg_type + \"' callback:\", e, e.stack, msg);\n",
       "            }\n",
       "        }\n",
       "    };\n",
       "}\n",
       "\n",
       "// from http://stackoverflow.com/questions/1114465/getting-mouse-location-in-canvas\n",
       "mpl.findpos = function(e) {\n",
       "    //this section is from http://www.quirksmode.org/js/events_properties.html\n",
       "    var targ;\n",
       "    if (!e)\n",
       "        e = window.event;\n",
       "    if (e.target)\n",
       "        targ = e.target;\n",
       "    else if (e.srcElement)\n",
       "        targ = e.srcElement;\n",
       "    if (targ.nodeType == 3) // defeat Safari bug\n",
       "        targ = targ.parentNode;\n",
       "\n",
       "    // jQuery normalizes the pageX and pageY\n",
       "    // pageX,Y are the mouse positions relative to the document\n",
       "    // offset() returns the position of the element relative to the document\n",
       "    var x = e.pageX - $(targ).offset().left;\n",
       "    var y = e.pageY - $(targ).offset().top;\n",
       "\n",
       "    return {\"x\": x, \"y\": y};\n",
       "};\n",
       "\n",
       "/*\n",
       " * return a copy of an object with only non-object keys\n",
       " * we need this to avoid circular references\n",
       " * http://stackoverflow.com/a/24161582/3208463\n",
       " */\n",
       "function simpleKeys (original) {\n",
       "  return Object.keys(original).reduce(function (obj, key) {\n",
       "    if (typeof original[key] !== 'object')\n",
       "        obj[key] = original[key]\n",
       "    return obj;\n",
       "  }, {});\n",
       "}\n",
       "\n",
       "mpl.figure.prototype.mouse_event = function(event, name) {\n",
       "    var canvas_pos = mpl.findpos(event)\n",
       "\n",
       "    if (name === 'button_press')\n",
       "    {\n",
       "        this.canvas.focus();\n",
       "        this.canvas_div.focus();\n",
       "    }\n",
       "\n",
       "    var x = canvas_pos.x * mpl.ratio;\n",
       "    var y = canvas_pos.y * mpl.ratio;\n",
       "\n",
       "    this.send_message(name, {x: x, y: y, button: event.button,\n",
       "                             step: event.step,\n",
       "                             guiEvent: simpleKeys(event)});\n",
       "\n",
       "    /* This prevents the web browser from automatically changing to\n",
       "     * the text insertion cursor when the button is pressed.  We want\n",
       "     * to control all of the cursor setting manually through the\n",
       "     * 'cursor' event from matplotlib */\n",
       "    event.preventDefault();\n",
       "    return false;\n",
       "}\n",
       "\n",
       "mpl.figure.prototype._key_event_extra = function(event, name) {\n",
       "    // Handle any extra behaviour associated with a key event\n",
       "}\n",
       "\n",
       "mpl.figure.prototype.key_event = function(event, name) {\n",
       "\n",
       "    // Prevent repeat events\n",
       "    if (name == 'key_press')\n",
       "    {\n",
       "        if (event.which === this._key)\n",
       "            return;\n",
       "        else\n",
       "            this._key = event.which;\n",
       "    }\n",
       "    if (name == 'key_release')\n",
       "        this._key = null;\n",
       "\n",
       "    var value = '';\n",
       "    if (event.ctrlKey && event.which != 17)\n",
       "        value += \"ctrl+\";\n",
       "    if (event.altKey && event.which != 18)\n",
       "        value += \"alt+\";\n",
       "    if (event.shiftKey && event.which != 16)\n",
       "        value += \"shift+\";\n",
       "\n",
       "    value += 'k';\n",
       "    value += event.which.toString();\n",
       "\n",
       "    this._key_event_extra(event, name);\n",
       "\n",
       "    this.send_message(name, {key: value,\n",
       "                             guiEvent: simpleKeys(event)});\n",
       "    return false;\n",
       "}\n",
       "\n",
       "mpl.figure.prototype.toolbar_button_onclick = function(name) {\n",
       "    if (name == 'download') {\n",
       "        this.handle_save(this, null);\n",
       "    } else {\n",
       "        this.send_message(\"toolbar_button\", {name: name});\n",
       "    }\n",
       "};\n",
       "\n",
       "mpl.figure.prototype.toolbar_button_onmouseover = function(tooltip) {\n",
       "    this.message.textContent = tooltip;\n",
       "};\n",
       "mpl.toolbar_items = [[\"Home\", \"Reset original view\", \"fa fa-home icon-home\", \"home\"], [\"Back\", \"Back to previous view\", \"fa fa-arrow-left icon-arrow-left\", \"back\"], [\"Forward\", \"Forward to next view\", \"fa fa-arrow-right icon-arrow-right\", \"forward\"], [\"\", \"\", \"\", \"\"], [\"Pan\", \"Pan axes with left mouse, zoom with right\", \"fa fa-arrows icon-move\", \"pan\"], [\"Zoom\", \"Zoom to rectangle\", \"fa fa-square-o icon-check-empty\", \"zoom\"], [\"\", \"\", \"\", \"\"], [\"Download\", \"Download plot\", \"fa fa-floppy-o icon-save\", \"download\"]];\n",
       "\n",
       "mpl.extensions = [\"eps\", \"pdf\", \"png\", \"ps\", \"raw\", \"svg\"];\n",
       "\n",
       "mpl.default_extension = \"png\";var comm_websocket_adapter = function(comm) {\n",
       "    // Create a \"websocket\"-like object which calls the given IPython comm\n",
       "    // object with the appropriate methods. Currently this is a non binary\n",
       "    // socket, so there is still some room for performance tuning.\n",
       "    var ws = {};\n",
       "\n",
       "    ws.close = function() {\n",
       "        comm.close()\n",
       "    };\n",
       "    ws.send = function(m) {\n",
       "        //console.log('sending', m);\n",
       "        comm.send(m);\n",
       "    };\n",
       "    // Register the callback with on_msg.\n",
       "    comm.on_msg(function(msg) {\n",
       "        //console.log('receiving', msg['content']['data'], msg);\n",
       "        // Pass the mpl event to the overridden (by mpl) onmessage function.\n",
       "        ws.onmessage(msg['content']['data'])\n",
       "    });\n",
       "    return ws;\n",
       "}\n",
       "\n",
       "mpl.mpl_figure_comm = function(comm, msg) {\n",
       "    // This is the function which gets called when the mpl process\n",
       "    // starts-up an IPython Comm through the \"matplotlib\" channel.\n",
       "\n",
       "    var id = msg.content.data.id;\n",
       "    // Get hold of the div created by the display call when the Comm\n",
       "    // socket was opened in Python.\n",
       "    var element = $(\"#\" + id);\n",
       "    var ws_proxy = comm_websocket_adapter(comm)\n",
       "\n",
       "    function ondownload(figure, format) {\n",
       "        window.open(figure.imageObj.src);\n",
       "    }\n",
       "\n",
       "    var fig = new mpl.figure(id, ws_proxy,\n",
       "                           ondownload,\n",
       "                           element.get(0));\n",
       "\n",
       "    // Call onopen now - mpl needs it, as it is assuming we've passed it a real\n",
       "    // web socket which is closed, not our websocket->open comm proxy.\n",
       "    ws_proxy.onopen();\n",
       "\n",
       "    fig.parent_element = element.get(0);\n",
       "    fig.cell_info = mpl.find_output_cell(\"<div id='\" + id + \"'></div>\");\n",
       "    if (!fig.cell_info) {\n",
       "        console.error(\"Failed to find cell for figure\", id, fig);\n",
       "        return;\n",
       "    }\n",
       "\n",
       "    var output_index = fig.cell_info[2]\n",
       "    var cell = fig.cell_info[0];\n",
       "\n",
       "};\n",
       "\n",
       "mpl.figure.prototype.handle_close = function(fig, msg) {\n",
       "    var width = fig.canvas.width/mpl.ratio\n",
       "    fig.root.unbind('remove')\n",
       "\n",
       "    // Update the output cell to use the data from the current canvas.\n",
       "    fig.push_to_output();\n",
       "    var dataURL = fig.canvas.toDataURL();\n",
       "    // Re-enable the keyboard manager in IPython - without this line, in FF,\n",
       "    // the notebook keyboard shortcuts fail.\n",
       "    IPython.keyboard_manager.enable()\n",
       "    $(fig.parent_element).html('<img src=\"' + dataURL + '\" width=\"' + width + '\">');\n",
       "    fig.close_ws(fig, msg);\n",
       "}\n",
       "\n",
       "mpl.figure.prototype.close_ws = function(fig, msg){\n",
       "    fig.send_message('closing', msg);\n",
       "    // fig.ws.close()\n",
       "}\n",
       "\n",
       "mpl.figure.prototype.push_to_output = function(remove_interactive) {\n",
       "    // Turn the data on the canvas into data in the output cell.\n",
       "    var width = this.canvas.width/mpl.ratio\n",
       "    var dataURL = this.canvas.toDataURL();\n",
       "    this.cell_info[1]['text/html'] = '<img src=\"' + dataURL + '\" width=\"' + width + '\">';\n",
       "}\n",
       "\n",
       "mpl.figure.prototype.updated_canvas_event = function() {\n",
       "    // Tell IPython that the notebook contents must change.\n",
       "    IPython.notebook.set_dirty(true);\n",
       "    this.send_message(\"ack\", {});\n",
       "    var fig = this;\n",
       "    // Wait a second, then push the new image to the DOM so\n",
       "    // that it is saved nicely (might be nice to debounce this).\n",
       "    setTimeout(function () { fig.push_to_output() }, 1000);\n",
       "}\n",
       "\n",
       "mpl.figure.prototype._init_toolbar = function() {\n",
       "    var fig = this;\n",
       "\n",
       "    var nav_element = $('<div/>')\n",
       "    nav_element.attr('style', 'width: 100%');\n",
       "    this.root.append(nav_element);\n",
       "\n",
       "    // Define a callback function for later on.\n",
       "    function toolbar_event(event) {\n",
       "        return fig.toolbar_button_onclick(event['data']);\n",
       "    }\n",
       "    function toolbar_mouse_event(event) {\n",
       "        return fig.toolbar_button_onmouseover(event['data']);\n",
       "    }\n",
       "\n",
       "    for(var toolbar_ind in mpl.toolbar_items){\n",
       "        var name = mpl.toolbar_items[toolbar_ind][0];\n",
       "        var tooltip = mpl.toolbar_items[toolbar_ind][1];\n",
       "        var image = mpl.toolbar_items[toolbar_ind][2];\n",
       "        var method_name = mpl.toolbar_items[toolbar_ind][3];\n",
       "\n",
       "        if (!name) { continue; };\n",
       "\n",
       "        var button = $('<button class=\"btn btn-default\" href=\"#\" title=\"' + name + '\"><i class=\"fa ' + image + ' fa-lg\"></i></button>');\n",
       "        button.click(method_name, toolbar_event);\n",
       "        button.mouseover(tooltip, toolbar_mouse_event);\n",
       "        nav_element.append(button);\n",
       "    }\n",
       "\n",
       "    // Add the status bar.\n",
       "    var status_bar = $('<span class=\"mpl-message\" style=\"text-align:right; float: right;\"/>');\n",
       "    nav_element.append(status_bar);\n",
       "    this.message = status_bar[0];\n",
       "\n",
       "    // Add the close button to the window.\n",
       "    var buttongrp = $('<div class=\"btn-group inline pull-right\"></div>');\n",
       "    var button = $('<button class=\"btn btn-mini btn-primary\" href=\"#\" title=\"Stop Interaction\"><i class=\"fa fa-power-off icon-remove icon-large\"></i></button>');\n",
       "    button.click(function (evt) { fig.handle_close(fig, {}); } );\n",
       "    button.mouseover('Stop Interaction', toolbar_mouse_event);\n",
       "    buttongrp.append(button);\n",
       "    var titlebar = this.root.find($('.ui-dialog-titlebar'));\n",
       "    titlebar.prepend(buttongrp);\n",
       "}\n",
       "\n",
       "mpl.figure.prototype._root_extra_style = function(el){\n",
       "    var fig = this\n",
       "    el.on(\"remove\", function(){\n",
       "\tfig.close_ws(fig, {});\n",
       "    });\n",
       "}\n",
       "\n",
       "mpl.figure.prototype._canvas_extra_style = function(el){\n",
       "    // this is important to make the div 'focusable\n",
       "    el.attr('tabindex', 0)\n",
       "    // reach out to IPython and tell the keyboard manager to turn it's self\n",
       "    // off when our div gets focus\n",
       "\n",
       "    // location in version 3\n",
       "    if (IPython.notebook.keyboard_manager) {\n",
       "        IPython.notebook.keyboard_manager.register_events(el);\n",
       "    }\n",
       "    else {\n",
       "        // location in version 2\n",
       "        IPython.keyboard_manager.register_events(el);\n",
       "    }\n",
       "\n",
       "}\n",
       "\n",
       "mpl.figure.prototype._key_event_extra = function(event, name) {\n",
       "    var manager = IPython.notebook.keyboard_manager;\n",
       "    if (!manager)\n",
       "        manager = IPython.keyboard_manager;\n",
       "\n",
       "    // Check for shift+enter\n",
       "    if (event.shiftKey && event.which == 13) {\n",
       "        this.canvas_div.blur();\n",
       "        event.shiftKey = false;\n",
       "        // Send a \"J\" for go to next cell\n",
       "        event.which = 74;\n",
       "        event.keyCode = 74;\n",
       "        manager.command_mode();\n",
       "        manager.handle_keydown(event);\n",
       "    }\n",
       "}\n",
       "\n",
       "mpl.figure.prototype.handle_save = function(fig, msg) {\n",
       "    fig.ondownload(fig, null);\n",
       "}\n",
       "\n",
       "\n",
       "mpl.find_output_cell = function(html_output) {\n",
       "    // Return the cell and output element which can be found *uniquely* in the notebook.\n",
       "    // Note - this is a bit hacky, but it is done because the \"notebook_saving.Notebook\"\n",
       "    // IPython event is triggered only after the cells have been serialised, which for\n",
       "    // our purposes (turning an active figure into a static one), is too late.\n",
       "    var cells = IPython.notebook.get_cells();\n",
       "    var ncells = cells.length;\n",
       "    for (var i=0; i<ncells; i++) {\n",
       "        var cell = cells[i];\n",
       "        if (cell.cell_type === 'code'){\n",
       "            for (var j=0; j<cell.output_area.outputs.length; j++) {\n",
       "                var data = cell.output_area.outputs[j];\n",
       "                if (data.data) {\n",
       "                    // IPython >= 3 moved mimebundle to data attribute of output\n",
       "                    data = data.data;\n",
       "                }\n",
       "                if (data['text/html'] == html_output) {\n",
       "                    return [cell, data, j];\n",
       "                }\n",
       "            }\n",
       "        }\n",
       "    }\n",
       "}\n",
       "\n",
       "// Register the function which deals with the matplotlib target/channel.\n",
       "// The kernel may be null if the page has been refreshed.\n",
       "if (IPython.notebook.kernel != null) {\n",
       "    IPython.notebook.kernel.comm_manager.register_target('matplotlib', mpl.mpl_figure_comm);\n",
       "}\n"
      ],
      "text/plain": [
       "<IPython.core.display.Javascript object>"
      ]
     },
     "metadata": {},
     "output_type": "display_data"
    },
    {
     "data": {
      "text/html": [
       "<img src=\"data:image/png;base64,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\" width=\"640\">"
      ],
      "text/plain": [
       "<IPython.core.display.HTML object>"
      ]
     },
     "metadata": {},
     "output_type": "display_data"
    },
    {
     "data": {
      "text/plain": [
       "[<matplotlib.lines.Line2D at 0x7fb9ac48a898>]"
      ]
     },
     "execution_count": 139,
     "metadata": {},
     "output_type": "execute_result"
    }
   ],
   "source": [
    "p = np.polyfit(x,y,deg=2)\n",
    "fit = np.poly1d(p)\n",
    "xnew = np.linspace(min(x), max(x),50)\n",
    "plt.errorbar(x,y,yerr=sigma_y,fmt='o')\n",
    "plt.plot(xnew,fit(xnew))"
   ]
  },
  {
   "cell_type": "markdown",
   "metadata": {
    "slideshow": {
     "slide_type": "subslide"
    }
   },
   "source": [
    "By eye (a metric that is hardly quantitative, but nevertheless worth developing because talks never provide all of the details), the quadratic fit appears \"better\" than the linear fit.\n",
    "\n",
    "But, there are still \"outliers\" and in the realm of polynomial fitting, it is always possible to get a better fit by adding more degrees to the polynomial. Should we keep going here, or should we stop? (Again - we will discuss model selection with Adam on Friday)\n",
    "\n",
    "[As a reminder - in machine learning we'd call this low training error, but the generalization error is likely huge]"
   ]
  },
  {
   "cell_type": "markdown",
   "metadata": {
    "slideshow": {
     "slide_type": "slide"
    }
   },
   "source": [
    "How should we deal with these potential outliers?\n",
    "\n",
    "(and to re-iterate, we cannot be certain that these points are, in fact, outliers)"
   ]
  },
  {
   "cell_type": "markdown",
   "metadata": {
    "slideshow": {
     "slide_type": "subslide"
    }
   },
   "source": [
    "Amazingly, if you scroll through the literature you can find solutions like the following: \"We do not *believe* the data point at (x, y) for reasons A, B, C. Thus, we exclude that point from the fit.\"\n",
    "\n",
    "This, obviously, lacks any sort of rigor. If data is going to be removed, and it is worth asking if data should ever be removed, it should not be subject to the \"beliefs\" of an individual person or group. "
   ]
  },
  {
   "cell_type": "markdown",
   "metadata": {
    "slideshow": {
     "slide_type": "subslide"
    }
   },
   "source": [
    "A more common approach that you might encounter is known as $k\\sigma$ clipping, which is an iterative procedure to identify and remove outliers from a data set. The procedure is as follows:\n",
    "\n",
    "1. Fit the model to the data\n",
    "2. Identify any data points that are $k\\sigma$ discrepant from the best-fit model\n",
    "3. Remove the discrepant points, repeat steps 1 & 2 until there are no data beyond $k\\sigma$"
   ]
  },
  {
   "cell_type": "markdown",
   "metadata": {
    "slideshow": {
     "slide_type": "subslide"
    }
   },
   "source": [
    "The motivation for this procedure is the following: in a small data set (such as the one above, 20 points), the likelihood of having large $\\sigma$ deviations (let's say $k = 5$) is vanishingly small. Thus, it \"makes sense\" to remove those points. \n",
    "\n",
    "Of course, this only makes sense if the uncertainties are truly gaussian with low variance. So again, specific, and likely untrue, assumptions have to be made. "
   ]
  },
  {
   "cell_type": "markdown",
   "metadata": {
    "slideshow": {
     "slide_type": "slide"
    }
   },
   "source": [
    "**Problem 3c**\n",
    "\n",
    "Develop a $k\\sigma$ clipping procedure to fit a line to the data set. Set $k = 5$ and determine the best-fit line to the data. \n",
    "\n",
    "Overplot the results of the procedure on the data. How does this fit to the data look?"
   ]
  },
  {
   "cell_type": "code",
   "execution_count": null,
   "metadata": {
    "slideshow": {
     "slide_type": "subslide"
    }
   },
   "outputs": [],
   "source": [
    "# complete"
   ]
  },
  {
   "cell_type": "markdown",
   "metadata": {
    "slideshow": {
     "slide_type": "subslide"
    }
   },
   "source": [
    "By eye, the results above are not that satisfying. Several of those points do look like outliers, but there are also 2 points being rejected that are well within the other cluster of data.\n",
    "\n",
    "Furthermore, the point at $(x, y) \\approx (60, 170)$ was clipped in an early iteration of the algorithm, but now with the final model this point is actually within $k\\sigma$ of the best-fit line. What should one do with points like this?"
   ]
  },
  {
   "cell_type": "markdown",
   "metadata": {
    "slideshow": {
     "slide_type": "subslide"
    }
   },
   "source": [
    "This is one of the great problems with $k\\sigma$ clipping: how does one select the appropriate value for $k$?\n",
    "\n",
    "Even if there was a good heuristic argument for selecting $k$, is there fundamentally any difference between an observation that is $k\\sigma + \\epsilon$ away from the model versus a point at $k\\sigma - \\epsilon$, where $\\epsilon \\ll 1$? Any choice of $k$ will automatically remove one of these points and not the other, which seems somewhat arbitrary..."
   ]
  },
  {
   "cell_type": "markdown",
   "metadata": {
    "slideshow": {
     "slide_type": "slide"
    }
   },
   "source": [
    "**Problem 3d**\n",
    "\n",
    "Perform the $k\\sigma$ procedure on the data, but this time set $k = 7$. Plot the results as above.\n",
    "\n",
    "How do these results compare to our previous fits?"
   ]
  },
  {
   "cell_type": "code",
   "execution_count": null,
   "metadata": {
    "slideshow": {
     "slide_type": "subslide"
    }
   },
   "outputs": [],
   "source": [
    "# complete"
   ]
  },
  {
   "cell_type": "markdown",
   "metadata": {
    "slideshow": {
     "slide_type": "subslide"
    }
   },
   "source": [
    "By eye, this *appears* superior to the previous fit. At the same time, we have not actually optimized anything to definitively show that this is the case.\n",
    "\n",
    "If there are outliers in the data, then it stands to reason that the uncertainties are likely not correctly estimated."
   ]
  },
  {
   "cell_type": "markdown",
   "metadata": {
    "slideshow": {
     "slide_type": "subslide"
    }
   },
   "source": [
    "**Problem 3e**\n",
    "\n",
    "Perform the $k\\sigma$ procedure on the data, with $k = 5$, but the variance increased by a factor 4 (i.e. `sigma_y` increased by a factor of 2). Plot the results as above.\n",
    "\n",
    "How do these results compare to our previous fits?"
   ]
  },
  {
   "cell_type": "code",
   "execution_count": null,
   "metadata": {
    "slideshow": {
     "slide_type": "subslide"
    }
   },
   "outputs": [],
   "source": [
    "# complete"
   ]
  },
  {
   "cell_type": "markdown",
   "metadata": {
    "slideshow": {
     "slide_type": "subslide"
    }
   },
   "source": [
    "If the uncertainties were underestimated then none of the data get clipped from the fit!"
   ]
  },
  {
   "cell_type": "markdown",
   "metadata": {
    "slideshow": {
     "slide_type": "slide"
    }
   },
   "source": [
    "I assume (and I hope I've convinced you that assumptions are dangerous) that if you have worked with astronomical data that at one point or another you have (i) encountered data that appear to have outliers, and/or (ii) plotted data in 2 dimensions and then performed a (least-squares) linear fit to that data."
   ]
  },
  {
   "cell_type": "markdown",
   "metadata": {
    "slideshow": {
     "slide_type": "subslide"
    }
   },
   "source": [
    "If that is true, I sincerely hope you have the following two thoughts:\n",
    "\n",
    "1. Crap, crap, crap - I really messed up my paper on [*REDACTED*].\n",
    "2. There has to be a better way!"
   ]
  },
  {
   "cell_type": "markdown",
   "metadata": {
    "slideshow": {
     "slide_type": "subslide"
    }
   },
   "source": [
    "First, let's address point 1. Don't freak out. Yes, it is probably the case that some work somewhere was not completed in the absolute most rigorous fashion possible. This is okay (and I feel fairly confident saying everyone has done it. There are definitely examples of each of the \"bad\" things described above in *my* papers if you go back and look hard enough.)\n",
    "\n",
    "There are even some situations where the above prescriptions are appropriate and preferred (think engineering solutions as opposed to strict scientific inference). "
   ]
  },
  {
   "cell_type": "markdown",
   "metadata": {
    "slideshow": {
     "slide_type": "subslide"
    }
   },
   "source": [
    "More importantly - point 2: there is a better way. Especially for the data/problem that we have been investigating above.\n",
    "\n",
    "We can approach this problem as a Bayesian."
   ]
  },
  {
   "cell_type": "markdown",
   "metadata": {
    "slideshow": {
     "slide_type": "slide"
    }
   },
   "source": [
    "## Bayes' Theorem\n",
    "\n",
    "We do not have enough time for a full lecture on Bayes' Theorem, but we will provide a (way too) short description, while defining some key terms. \n",
    "\n",
    "We start with a quick derivation (Bayes' Theorem is all about conditional probabilities):"
   ]
  },
  {
   "cell_type": "markdown",
   "metadata": {
    "slideshow": {
     "slide_type": "subslide"
    }
   },
   "source": [
    "$$ P(X|Y) = \\frac{P(X \\cap Y)}{P(Y)} \\\\\n",
    "P(Y|X) = \\frac{P(Y \\cap X)}{P(X)} \\\\\n",
    "\\cdots \\\\\n",
    "P(X|Y) = \\frac{P(Y|X) P(X)}{P(Y)} $$"
   ]
  },
  {
   "cell_type": "markdown",
   "metadata": {
    "slideshow": {
     "slide_type": "subslide"
    }
   },
   "source": [
    "This is Bayes' Theorem. \n",
    "\n",
    "$P(X|Y)$ is the **posterior**. This is the probability of the model parameters, $X$, given the observations $Y$. This is the quantity that we ultimately want to compute. \n",
    "\n",
    "$P(Y|X)$ is the **likelihood**. This is the same as the likelihood that we did computed above.\n",
    "\n",
    "$P(X)$ is the **prior**. This is the probability of the model parameters, and it encompases everything you believe about the model prior to running the experiment. The use of a prior is what makes the analysis Bayesian.\n",
    "\n",
    "$P(Y)$ is the **probability of data**, or as David Hogg says, \"the fully marginalized likelihood (FML)\". This is extremely hard to calculate (though it is possible), and often is ignored as it is just a normalization factor. "
   ]
  },
  {
   "cell_type": "markdown",
   "metadata": {
    "slideshow": {
     "slide_type": "subslide"
    }
   },
   "source": [
    "$$P(X|Y) \\propto P(Y|X) P(X)$$ \n",
    "\n",
    "For many astronomical applications we look to sample from the posterior while ignoring the probability of the data (ignoring the normalization factor means that model comparison is very difficult, though there are ways to do this and we will cover them in great detail in the future). "
   ]
  },
  {
   "cell_type": "markdown",
   "metadata": {
    "slideshow": {
     "slide_type": "slide"
    }
   },
   "source": [
    "## Challenge Problem\n",
    "\n",
    "Take a Bayesian approach to the above problem, whereby you define a generative model that allows you to compute the likelihood of the observations. The computation of the likelihood or posterior probability distribution requires complex integrals, compute these integrals using your favorite Markov Chain Monte Carlo techniques. \n",
    "\n",
    "The combination of each of these tools provides a far more satisfying result than the various procedures previously discussed in this lecture. "
   ]
  },
  {
   "cell_type": "code",
   "execution_count": null,
   "metadata": {
    "slideshow": {
     "slide_type": "subslide"
    }
   },
   "outputs": [],
   "source": []
  }
 ],
 "metadata": {
  "celltoolbar": "Slideshow",
  "kernelspec": {
   "display_name": "Python 3",
   "language": "python",
   "name": "python3"
  },
  "language_info": {
   "codemirror_mode": {
    "name": "ipython",
    "version": 3
   },
   "file_extension": ".py",
   "mimetype": "text/x-python",
   "name": "python",
   "nbconvert_exporter": "python",
   "pygments_lexer": "ipython3",
   "version": "3.6.6"
  }
 },
 "nbformat": 4,
 "nbformat_minor": 2
}
